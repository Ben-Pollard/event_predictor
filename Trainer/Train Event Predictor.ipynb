{
 "cells": [
  {
   "cell_type": "markdown",
   "metadata": {},
   "source": [
    "# RSVP Response Prediction for New Tech Meetups"
   ]
  },
  {
   "cell_type": "markdown",
   "metadata": {},
   "source": [
    "---"
   ]
  },
  {
   "cell_type": "markdown",
   "metadata": {},
   "source": [
    "## Import libraries and read data"
   ]
  },
  {
   "cell_type": "code",
   "execution_count": 182,
   "metadata": {},
   "outputs": [],
   "source": [
    "import pandas as pd\n",
    "import numpy as np\n",
    "import os\n",
    "from sklearn.ensemble import RandomForestRegressor\n",
    "from sklearn.svm import SVR\n",
    "from sklearn.model_selection import train_test_split\n",
    "from sklearn.metrics import r2_score\n",
    "from sklearn.externals import joblib\n",
    "from sklearn.model_selection import RandomizedSearchCV\n",
    "import itertools\n",
    "from gensim.models import Word2Vec\n",
    "from scipy.stats import randint, expon\n",
    "import seaborn as sns\n",
    "import json\n",
    "import warnings\n",
    "%matplotlib inline"
   ]
  },
  {
   "cell_type": "code",
   "execution_count": 183,
   "metadata": {
    "collapsed": true
   },
   "outputs": [],
   "source": [
    "events = pd.read_json('../Data/events.json')\n",
    "groups = pd.read_json('../Data/groups.json')\n",
    "users = pd.read_json('../Data/users.json')\n",
    "venues = pd.read_json('../Data/venues.json')"
   ]
  },
  {
   "cell_type": "markdown",
   "metadata": {},
   "source": [
    "---"
   ]
  },
  {
   "cell_type": "markdown",
   "metadata": {},
   "source": [
    "## Minimum Viable Product"
   ]
  },
  {
   "cell_type": "markdown",
   "metadata": {},
   "source": [
    "Docker has been chosen as a way of ensuring dependencies are available in the remote environment. To minimise problems with ensuring the solution works with Docker, getting the simplest possible model (MVP) running in it was prioritised."
   ]
  },
  {
   "cell_type": "markdown",
   "metadata": {},
   "source": [
    "### Building the MVP dataset"
   ]
  },
  {
   "cell_type": "markdown",
   "metadata": {},
   "source": [
    "The events dataset contains our target variable of number of RSVPs. It also contains at least 1 feature (*rsvp_limit*) that can be used to predict number of RSVPs, so we can create a minimum viable product just from this dataset."
   ]
  },
  {
   "cell_type": "code",
   "execution_count": 184,
   "metadata": {},
   "outputs": [
    {
     "data": {
      "text/html": [
       "<div>\n",
       "<style>\n",
       "    .dataframe thead tr:only-child th {\n",
       "        text-align: right;\n",
       "    }\n",
       "\n",
       "    .dataframe thead th {\n",
       "        text-align: left;\n",
       "    }\n",
       "\n",
       "    .dataframe tbody tr th {\n",
       "        vertical-align: top;\n",
       "    }\n",
       "</style>\n",
       "<table border=\"1\" class=\"dataframe\">\n",
       "  <thead>\n",
       "    <tr style=\"text-align: right;\">\n",
       "      <th></th>\n",
       "      <th>created</th>\n",
       "      <th>description</th>\n",
       "      <th>duration</th>\n",
       "      <th>group_id</th>\n",
       "      <th>name</th>\n",
       "      <th>rsvp_limit</th>\n",
       "      <th>rsvps</th>\n",
       "      <th>status</th>\n",
       "      <th>time</th>\n",
       "      <th>venue_id</th>\n",
       "    </tr>\n",
       "  </thead>\n",
       "  <tbody>\n",
       "    <tr>\n",
       "      <th>0</th>\n",
       "      <td>1309088803000</td>\n",
       "      <td>&lt;p&gt;&lt;img src=\"http://photos2.meetupstatic.com/p...</td>\n",
       "      <td>NaN</td>\n",
       "      <td>INTERNATIONALS-in-Rotterdam</td>\n",
       "      <td>INTERNATIONALS meet INTERNATIONALS- Midsummer ...</td>\n",
       "      <td>NaN</td>\n",
       "      <td>[{'guests': 0, 'when': 1309881442000, 'respons...</td>\n",
       "      <td>past</td>\n",
       "      <td>1.310056e+12</td>\n",
       "      <td>68572</td>\n",
       "    </tr>\n",
       "    <tr>\n",
       "      <th>1</th>\n",
       "      <td>1439890905000</td>\n",
       "      <td>&lt;p&gt;'s Avonds je laptop openklappen om iets leu...</td>\n",
       "      <td>NaN</td>\n",
       "      <td>codecave</td>\n",
       "      <td>Let's code some fun stuff!</td>\n",
       "      <td>12.0</td>\n",
       "      <td>[{'guests': 0, 'when': 1439922626000, 'respons...</td>\n",
       "      <td>upcoming</td>\n",
       "      <td>1.448476e+12</td>\n",
       "      <td>67856</td>\n",
       "    </tr>\n",
       "    <tr>\n",
       "      <th>2</th>\n",
       "      <td>1287573554000</td>\n",
       "      <td>&lt;p&gt;dear members,&lt;/p&gt; &lt;p&gt;Friday 5th of November...</td>\n",
       "      <td>NaN</td>\n",
       "      <td>Digital-Museum-Network-Amsterdam</td>\n",
       "      <td>Presentation of new applications/projects</td>\n",
       "      <td>12.0</td>\n",
       "      <td>[{'guests': 0, 'when': 1288771966000, 'respons...</td>\n",
       "      <td>past</td>\n",
       "      <td>1.288962e+12</td>\n",
       "      <td>67870</td>\n",
       "    </tr>\n",
       "  </tbody>\n",
       "</table>\n",
       "</div>"
      ],
      "text/plain": [
       "         created                                        description  duration  \\\n",
       "0  1309088803000  <p><img src=\"http://photos2.meetupstatic.com/p...       NaN   \n",
       "1  1439890905000  <p>'s Avonds je laptop openklappen om iets leu...       NaN   \n",
       "2  1287573554000  <p>dear members,</p> <p>Friday 5th of November...       NaN   \n",
       "\n",
       "                           group_id  \\\n",
       "0       INTERNATIONALS-in-Rotterdam   \n",
       "1                          codecave   \n",
       "2  Digital-Museum-Network-Amsterdam   \n",
       "\n",
       "                                                name  rsvp_limit  \\\n",
       "0  INTERNATIONALS meet INTERNATIONALS- Midsummer ...         NaN   \n",
       "1                         Let's code some fun stuff!        12.0   \n",
       "2          Presentation of new applications/projects        12.0   \n",
       "\n",
       "                                               rsvps    status          time  \\\n",
       "0  [{'guests': 0, 'when': 1309881442000, 'respons...      past  1.310056e+12   \n",
       "1  [{'guests': 0, 'when': 1439922626000, 'respons...  upcoming  1.448476e+12   \n",
       "2  [{'guests': 0, 'when': 1288771966000, 'respons...      past  1.288962e+12   \n",
       "\n",
       "   venue_id  \n",
       "0     68572  \n",
       "1     67856  \n",
       "2     67870  "
      ]
     },
     "execution_count": 184,
     "metadata": {},
     "output_type": "execute_result"
    }
   ],
   "source": [
    "events[0:3]"
   ]
  },
  {
   "cell_type": "markdown",
   "metadata": {},
   "source": [
    "Filter out any events that haven't happened yet as we can't know the final RSVP number for these"
   ]
  },
  {
   "cell_type": "code",
   "execution_count": 185,
   "metadata": {},
   "outputs": [
    {
     "name": "stdout",
     "output_type": "stream",
     "text": [
      "Number of events: 6200\n",
      "Number of events in past: 5628\n"
     ]
    }
   ],
   "source": [
    "print(\"Number of events: %i\" % len(events))\n",
    "print(\"Number of events in past: %i\" % (events.status == 'past').sum())\n",
    "events = events[events.status == 'past']"
   ]
  },
  {
   "cell_type": "markdown",
   "metadata": {},
   "source": [
    "Parse the count of positive RSVPs from the *rsvps* field"
   ]
  },
  {
   "cell_type": "code",
   "execution_count": 186,
   "metadata": {},
   "outputs": [],
   "source": [
    "def parse_rsvp(rsvp_json):\n",
    "    return sum([e['response']=='yes' for e in rsvp_json])\n",
    "\n",
    "events['rsvp_yes'] = events.rsvps.apply(lambda x: parse_rsvp(x))"
   ]
  },
  {
   "cell_type": "markdown",
   "metadata": {},
   "source": [
    "Infill null values in *rsvp_limit* - we will choose to infill with the max observed value in case we want to use a model type that will treat it as a continuous feature."
   ]
  },
  {
   "cell_type": "code",
   "execution_count": 187,
   "metadata": {
    "collapsed": true
   },
   "outputs": [],
   "source": [
    "maxRsvpLimit = selected_data.rsvp_limit.max()\n",
    "events['rsvp_limit'].fillna(maxRsvpLimit, inplace=True)"
   ]
  },
  {
   "cell_type": "markdown",
   "metadata": {},
   "source": [
    "This is the dataset the MVP model will be trained on:"
   ]
  },
  {
   "cell_type": "code",
   "execution_count": 188,
   "metadata": {},
   "outputs": [
    {
     "data": {
      "text/html": [
       "<div>\n",
       "<style>\n",
       "    .dataframe thead tr:only-child th {\n",
       "        text-align: right;\n",
       "    }\n",
       "\n",
       "    .dataframe thead th {\n",
       "        text-align: left;\n",
       "    }\n",
       "\n",
       "    .dataframe tbody tr th {\n",
       "        vertical-align: top;\n",
       "    }\n",
       "</style>\n",
       "<table border=\"1\" class=\"dataframe\">\n",
       "  <thead>\n",
       "    <tr style=\"text-align: right;\">\n",
       "      <th></th>\n",
       "      <th>rsvp_yes</th>\n",
       "      <th>rsvp_limit</th>\n",
       "    </tr>\n",
       "  </thead>\n",
       "  <tbody>\n",
       "    <tr>\n",
       "      <th>0</th>\n",
       "      <td>45</td>\n",
       "      <td>500.0</td>\n",
       "    </tr>\n",
       "    <tr>\n",
       "      <th>2</th>\n",
       "      <td>5</td>\n",
       "      <td>12.0</td>\n",
       "    </tr>\n",
       "    <tr>\n",
       "      <th>3</th>\n",
       "      <td>79</td>\n",
       "      <td>100.0</td>\n",
       "    </tr>\n",
       "  </tbody>\n",
       "</table>\n",
       "</div>"
      ],
      "text/plain": [
       "   rsvp_yes  rsvp_limit\n",
       "0        45       500.0\n",
       "2         5        12.0\n",
       "3        79       100.0"
      ]
     },
     "execution_count": 188,
     "metadata": {},
     "output_type": "execute_result"
    }
   ],
   "source": [
    "selected_data = events[['rsvp_yes','rsvp_limit']]\n",
    "selected_data[0:3]"
   ]
  },
  {
   "cell_type": "markdown",
   "metadata": {},
   "source": [
    "Now we define our training and testing sets"
   ]
  },
  {
   "cell_type": "code",
   "execution_count": 189,
   "metadata": {},
   "outputs": [
    {
     "name": "stdout",
     "output_type": "stream",
     "text": [
      "4221 records in the training set\n",
      "1407 records in the testing set\n"
     ]
    }
   ],
   "source": [
    "X = selected_data.drop('rsvp_yes', axis=1)\n",
    "Y = selected_data['rsvp_yes']\n",
    "X_train, X_test, Y_train, Y_test = train_test_split(X, Y, train_size = 0.75)\n",
    "print(\"%i records in the training set\" % Y_train.count())\n",
    "print(\"%i records in the testing set\" % Y_test.count())"
   ]
  },
  {
   "cell_type": "markdown",
   "metadata": {},
   "source": [
    "### MVP model"
   ]
  },
  {
   "cell_type": "markdown",
   "metadata": {},
   "source": [
    "Random forests are usually decent catch-all models that don't take too long to train and handle well discontinuities and skews in the data."
   ]
  },
  {
   "cell_type": "code",
   "execution_count": 190,
   "metadata": {},
   "outputs": [
    {
     "name": "stdout",
     "output_type": "stream",
     "text": [
      "R-square train: 0.375100\n",
      "R-square test: 0.323312\n"
     ]
    }
   ],
   "source": [
    "rf = RandomForestRegressor()\n",
    "rf.fit(X_train, Y_train)\n",
    "\n",
    "r2_train = r2_score(Y_train, rf.predict(X_train))\n",
    "r2_test = r2_score(Y_test, rf.predict(X_test))\n",
    "\n",
    "print(\"R-square train: %f\" % r2_train)\n",
    "print(\"R-square test: %f\" % r2_test)"
   ]
  },
  {
   "cell_type": "markdown",
   "metadata": {},
   "source": [
    "We persist the trained model so we can use it to develop the scoring API part of the MVP. We also save the names of the required fields so the API can return a useful error if any fields are missing from the request.\n",
    "\n",
    "Discussion of the details of the scoring API is outside of the scope of this presentation."
   ]
  },
  {
   "cell_type": "code",
   "execution_count": 191,
   "metadata": {},
   "outputs": [
    {
     "data": {
      "text/plain": [
       "['../Data/required_fields.pkl']"
      ]
     },
     "execution_count": 191,
     "metadata": {},
     "output_type": "execute_result"
    }
   ],
   "source": [
    "joblib.dump(rf, '../Data/rf.pkl')\n",
    "\n",
    "required_fields = ['rsvp_limit']\n",
    "joblib.dump(required_fields, '../Data/required_fields.pkl')"
   ]
  },
  {
   "cell_type": "markdown",
   "metadata": {},
   "source": [
    "----"
   ]
  },
  {
   "cell_type": "markdown",
   "metadata": {},
   "source": [
    "## Data Familiarisation"
   ]
  },
  {
   "cell_type": "markdown",
   "metadata": {},
   "source": [
    "Time to see what the rest of the data looks like.."
   ]
  },
  {
   "cell_type": "markdown",
   "metadata": {},
   "source": [
    "### Inspect remaining datasets"
   ]
  },
  {
   "cell_type": "code",
   "execution_count": 192,
   "metadata": {},
   "outputs": [
    {
     "data": {
      "text/html": [
       "<div>\n",
       "<style>\n",
       "    .dataframe thead tr:only-child th {\n",
       "        text-align: right;\n",
       "    }\n",
       "\n",
       "    .dataframe thead th {\n",
       "        text-align: left;\n",
       "    }\n",
       "\n",
       "    .dataframe tbody tr th {\n",
       "        vertical-align: top;\n",
       "    }\n",
       "</style>\n",
       "<table border=\"1\" class=\"dataframe\">\n",
       "  <thead>\n",
       "    <tr style=\"text-align: right;\">\n",
       "      <th></th>\n",
       "      <th>city</th>\n",
       "      <th>country</th>\n",
       "      <th>hometown</th>\n",
       "      <th>memberships</th>\n",
       "      <th>user_id</th>\n",
       "    </tr>\n",
       "  </thead>\n",
       "  <tbody>\n",
       "    <tr>\n",
       "      <th>0</th>\n",
       "      <td>London</td>\n",
       "      <td>gb</td>\n",
       "      <td>None</td>\n",
       "      <td>[{'joined': 1401194987000, 'group_id': 'online...</td>\n",
       "      <td>45734</td>\n",
       "    </tr>\n",
       "    <tr>\n",
       "      <th>1</th>\n",
       "      <td>London</td>\n",
       "      <td>gb</td>\n",
       "      <td>None</td>\n",
       "      <td>[{'joined': 1400505160000, 'group_id': 'online...</td>\n",
       "      <td>66261</td>\n",
       "    </tr>\n",
       "  </tbody>\n",
       "</table>\n",
       "</div>"
      ],
      "text/plain": [
       "     city country hometown                                        memberships  \\\n",
       "0  London      gb     None  [{'joined': 1401194987000, 'group_id': 'online...   \n",
       "1  London      gb     None  [{'joined': 1400505160000, 'group_id': 'online...   \n",
       "\n",
       "   user_id  \n",
       "0    45734  \n",
       "1    66261  "
      ]
     },
     "execution_count": 192,
     "metadata": {},
     "output_type": "execute_result"
    }
   ],
   "source": [
    "users[0:2]"
   ]
  },
  {
   "cell_type": "code",
   "execution_count": 193,
   "metadata": {},
   "outputs": [
    {
     "data": {
      "text/html": [
       "<div>\n",
       "<style>\n",
       "    .dataframe thead tr:only-child th {\n",
       "        text-align: right;\n",
       "    }\n",
       "\n",
       "    .dataframe thead th {\n",
       "        text-align: left;\n",
       "    }\n",
       "\n",
       "    .dataframe tbody tr th {\n",
       "        vertical-align: top;\n",
       "    }\n",
       "</style>\n",
       "<table border=\"1\" class=\"dataframe\">\n",
       "  <thead>\n",
       "    <tr style=\"text-align: right;\">\n",
       "      <th></th>\n",
       "      <th>city</th>\n",
       "      <th>created</th>\n",
       "      <th>description</th>\n",
       "      <th>group_id</th>\n",
       "      <th>lat</th>\n",
       "      <th>link</th>\n",
       "      <th>lon</th>\n",
       "      <th>name</th>\n",
       "      <th>topics</th>\n",
       "    </tr>\n",
       "  </thead>\n",
       "  <tbody>\n",
       "    <tr>\n",
       "      <th>0</th>\n",
       "      <td>Den Haag</td>\n",
       "      <td>1386377741000</td>\n",
       "      <td>&lt;p&gt;This group is focused on software architect...</td>\n",
       "      <td>Software-Architecture-and-Project-Design-The-H...</td>\n",
       "      <td>52.080002</td>\n",
       "      <td>http://www.meetup.com/Software-Architecture-an...</td>\n",
       "      <td>4.28</td>\n",
       "      <td>Software Architecture and Project Design The H...</td>\n",
       "      <td>[WCF, Project Planning, Leadership, Software E...</td>\n",
       "    </tr>\n",
       "    <tr>\n",
       "      <th>1</th>\n",
       "      <td>Amsterdam</td>\n",
       "      <td>1352707128000</td>\n",
       "      <td>&lt;p&gt;FP AMS aims to bring together commercial us...</td>\n",
       "      <td>fp-ams</td>\n",
       "      <td>52.369999</td>\n",
       "      <td>http://www.meetup.com/fp-ams/</td>\n",
       "      <td>4.89</td>\n",
       "      <td>FP AMS</td>\n",
       "      <td>[Scala Play Framework, Functional Programming,...</td>\n",
       "    </tr>\n",
       "  </tbody>\n",
       "</table>\n",
       "</div>"
      ],
      "text/plain": [
       "        city        created  \\\n",
       "0   Den Haag  1386377741000   \n",
       "1  Amsterdam  1352707128000   \n",
       "\n",
       "                                         description  \\\n",
       "0  <p>This group is focused on software architect...   \n",
       "1  <p>FP AMS aims to bring together commercial us...   \n",
       "\n",
       "                                            group_id        lat  \\\n",
       "0  Software-Architecture-and-Project-Design-The-H...  52.080002   \n",
       "1                                             fp-ams  52.369999   \n",
       "\n",
       "                                                link   lon  \\\n",
       "0  http://www.meetup.com/Software-Architecture-an...  4.28   \n",
       "1                      http://www.meetup.com/fp-ams/  4.89   \n",
       "\n",
       "                                                name  \\\n",
       "0  Software Architecture and Project Design The H...   \n",
       "1                                             FP AMS   \n",
       "\n",
       "                                              topics  \n",
       "0  [WCF, Project Planning, Leadership, Software E...  \n",
       "1  [Scala Play Framework, Functional Programming,...  "
      ]
     },
     "execution_count": 193,
     "metadata": {},
     "output_type": "execute_result"
    }
   ],
   "source": [
    "groups[0:2]"
   ]
  },
  {
   "cell_type": "code",
   "execution_count": 194,
   "metadata": {},
   "outputs": [
    {
     "data": {
      "text/html": [
       "<div>\n",
       "<style>\n",
       "    .dataframe thead tr:only-child th {\n",
       "        text-align: right;\n",
       "    }\n",
       "\n",
       "    .dataframe thead th {\n",
       "        text-align: left;\n",
       "    }\n",
       "\n",
       "    .dataframe tbody tr th {\n",
       "        vertical-align: top;\n",
       "    }\n",
       "</style>\n",
       "<table border=\"1\" class=\"dataframe\">\n",
       "  <thead>\n",
       "    <tr style=\"text-align: right;\">\n",
       "      <th></th>\n",
       "      <th>city</th>\n",
       "      <th>country</th>\n",
       "      <th>lat</th>\n",
       "      <th>lon</th>\n",
       "      <th>name</th>\n",
       "      <th>venue_id</th>\n",
       "    </tr>\n",
       "  </thead>\n",
       "  <tbody>\n",
       "    <tr>\n",
       "      <th>0</th>\n",
       "      <td>Groningen</td>\n",
       "      <td>nl</td>\n",
       "      <td>53.214241</td>\n",
       "      <td>6.569170</td>\n",
       "      <td>FabLab / Launchcafé</td>\n",
       "      <td>67082</td>\n",
       "    </tr>\n",
       "    <tr>\n",
       "      <th>1</th>\n",
       "      <td>London</td>\n",
       "      <td>gb</td>\n",
       "      <td>51.520836</td>\n",
       "      <td>-0.090599</td>\n",
       "      <td>The Brewery</td>\n",
       "      <td>67083</td>\n",
       "    </tr>\n",
       "  </tbody>\n",
       "</table>\n",
       "</div>"
      ],
      "text/plain": [
       "        city country        lat       lon                 name  venue_id\n",
       "0  Groningen      nl  53.214241  6.569170  FabLab / Launchcafé     67082\n",
       "1     London      gb  51.520836 -0.090599          The Brewery     67083"
      ]
     },
     "execution_count": 194,
     "metadata": {},
     "output_type": "execute_result"
    }
   ],
   "source": [
    "venues[0:2]"
   ]
  },
  {
   "cell_type": "code",
   "execution_count": 195,
   "metadata": {},
   "outputs": [
    {
     "data": {
      "text/html": [
       "<div>\n",
       "<style>\n",
       "    .dataframe thead tr:only-child th {\n",
       "        text-align: right;\n",
       "    }\n",
       "\n",
       "    .dataframe thead th {\n",
       "        text-align: left;\n",
       "    }\n",
       "\n",
       "    .dataframe tbody tr th {\n",
       "        vertical-align: top;\n",
       "    }\n",
       "</style>\n",
       "<table border=\"1\" class=\"dataframe\">\n",
       "  <thead>\n",
       "    <tr style=\"text-align: right;\">\n",
       "      <th></th>\n",
       "      <th>created</th>\n",
       "      <th>description</th>\n",
       "      <th>duration</th>\n",
       "      <th>group_id</th>\n",
       "      <th>name</th>\n",
       "      <th>rsvp_limit</th>\n",
       "      <th>rsvps</th>\n",
       "      <th>status</th>\n",
       "      <th>time</th>\n",
       "      <th>venue_id</th>\n",
       "      <th>rsvp_yes</th>\n",
       "    </tr>\n",
       "  </thead>\n",
       "  <tbody>\n",
       "    <tr>\n",
       "      <th>0</th>\n",
       "      <td>1309088803000</td>\n",
       "      <td>&lt;p&gt;&lt;img src=\"http://photos2.meetupstatic.com/p...</td>\n",
       "      <td>NaN</td>\n",
       "      <td>INTERNATIONALS-in-Rotterdam</td>\n",
       "      <td>INTERNATIONALS meet INTERNATIONALS- Midsummer ...</td>\n",
       "      <td>500.0</td>\n",
       "      <td>[{'guests': 0, 'when': 1309881442000, 'respons...</td>\n",
       "      <td>past</td>\n",
       "      <td>1.310056e+12</td>\n",
       "      <td>68572</td>\n",
       "      <td>45</td>\n",
       "    </tr>\n",
       "    <tr>\n",
       "      <th>2</th>\n",
       "      <td>1287573554000</td>\n",
       "      <td>&lt;p&gt;dear members,&lt;/p&gt; &lt;p&gt;Friday 5th of November...</td>\n",
       "      <td>NaN</td>\n",
       "      <td>Digital-Museum-Network-Amsterdam</td>\n",
       "      <td>Presentation of new applications/projects</td>\n",
       "      <td>12.0</td>\n",
       "      <td>[{'guests': 0, 'when': 1288771966000, 'respons...</td>\n",
       "      <td>past</td>\n",
       "      <td>1.288962e+12</td>\n",
       "      <td>67870</td>\n",
       "      <td>5</td>\n",
       "    </tr>\n",
       "  </tbody>\n",
       "</table>\n",
       "</div>"
      ],
      "text/plain": [
       "         created                                        description  duration  \\\n",
       "0  1309088803000  <p><img src=\"http://photos2.meetupstatic.com/p...       NaN   \n",
       "2  1287573554000  <p>dear members,</p> <p>Friday 5th of November...       NaN   \n",
       "\n",
       "                           group_id  \\\n",
       "0       INTERNATIONALS-in-Rotterdam   \n",
       "2  Digital-Museum-Network-Amsterdam   \n",
       "\n",
       "                                                name  rsvp_limit  \\\n",
       "0  INTERNATIONALS meet INTERNATIONALS- Midsummer ...       500.0   \n",
       "2          Presentation of new applications/projects        12.0   \n",
       "\n",
       "                                               rsvps status          time  \\\n",
       "0  [{'guests': 0, 'when': 1309881442000, 'respons...   past  1.310056e+12   \n",
       "2  [{'guests': 0, 'when': 1288771966000, 'respons...   past  1.288962e+12   \n",
       "\n",
       "   venue_id  rsvp_yes  \n",
       "0     68572        45  \n",
       "2     67870         5  "
      ]
     },
     "execution_count": 195,
     "metadata": {},
     "output_type": "execute_result"
    }
   ],
   "source": [
    "events[0:2]"
   ]
  },
  {
   "cell_type": "markdown",
   "metadata": {},
   "source": [
    "### Inspect distribution of the target variable"
   ]
  },
  {
   "cell_type": "markdown",
   "metadata": {},
   "source": [
    "Depending on the type of model we choose, this could be important e.g. for a Poisson distribution (which this looks like it is)  we would want to use this information to set the link function of a generalised linear model (GLM). Or we might want either to  avoid using some model types e.g. a linear SVM, or perhaps perform a log transform.\n",
    "\n",
    "In this case, our random forest continues to be a decent choice - although we could consider a nonlinear SVM."
   ]
  },
  {
   "cell_type": "code",
   "execution_count": 196,
   "metadata": {},
   "outputs": [
    {
     "data": {
      "text/plain": [
       "<matplotlib.axes._subplots.AxesSubplot at 0x1ca641187b8>"
      ]
     },
     "execution_count": 196,
     "metadata": {},
     "output_type": "execute_result"
    },
    {
     "data": {
      "image/png": "[encoded data removed]",
      "text/plain": [
       "<matplotlib.figure.Figure at 0x1ca649dcbe0>"
      ]
     },
     "metadata": {},
     "output_type": "display_data"
    }
   ],
   "source": [
    "sns.distplot(Y)"
   ]
  },
  {
   "cell_type": "markdown",
   "metadata": {},
   "source": [
    "Let's just check the distribution of *rsvp_limit* as that's likely to be an important feature..."
   ]
  },
  {
   "cell_type": "code",
   "execution_count": 197,
   "metadata": {},
   "outputs": [
    {
     "data": {
      "text/plain": [
       "<matplotlib.axes._subplots.AxesSubplot at 0x1ca184a4940>"
      ]
     },
     "execution_count": 197,
     "metadata": {},
     "output_type": "execute_result"
    },
    {
     "data": {
      "image/png": "[encoded data removed]",
      "text/plain": [
       "<matplotlib.figure.Figure at 0x1ca0d514f28>"
      ]
     },
     "metadata": {},
     "output_type": "display_data"
    }
   ],
   "source": [
    "sns.distplot(X.rsvp_limit)"
   ]
  },
  {
   "cell_type": "markdown",
   "metadata": {},
   "source": [
    "A model type that copes gracefully with discontinuities will help us here."
   ]
  },
  {
   "cell_type": "markdown",
   "metadata": {},
   "source": [
    "---"
   ]
  },
  {
   "cell_type": "markdown",
   "metadata": {},
   "source": [
    "----"
   ]
  },
  {
   "cell_type": "markdown",
   "metadata": {},
   "source": [
    "## Feature engineering"
   ]
  },
  {
   "cell_type": "markdown",
   "metadata": {},
   "source": [
    "The features chosen to investigate are based on a balance of their supposed effectiveness and the ease with which they could be created. They are:\n",
    "* Rsvp_limit - the maximum number of YES RSVPs that this event will allow\n",
    "* Duration - the duration of the event, in seconds\n",
    "* Group_member_count - the number of members of a group as at the time of event creation\n",
    "* TimeFromCreationToEvent - the time from event creation to the time of the event\n",
    "* Topic vectors - the topics of the groups, vectorised with Word2Vec"
   ]
  },
  {
   "cell_type": "markdown",
   "metadata": {},
   "source": [
    "There are many potential features to explore which, due to time contraints are not possible in the current context. Some examples are:\n",
    "* More vectorised text fields - group description, event description\n",
    "* Features based on city name - e.g. number of groups and members in each city\n",
    "* Geographic features - e.g. distance from group to venue, distance of venue to centroid of other venues in the city\n",
    "* Features based on member hometown - the group count feature that we created could be modified to take into account how many of the members of the group live in the same city as the venue\n",
    "* Features derived from group home-page e.g. vectorised text of home page; search rank of page for a query based on group topics\n",
    "* Features based on group competition - is there another event at a similar time in a similar location with a similar topic vector?"
   ]
  },
  {
   "cell_type": "markdown",
   "metadata": {},
   "source": [
    "---"
   ]
  },
  {
   "cell_type": "markdown",
   "metadata": {},
   "source": [
    "### Group membership count"
   ]
  },
  {
   "cell_type": "markdown",
   "metadata": {},
   "source": [
    "Each cell in the memberships column consists of a sequence of dictionaries."
   ]
  },
  {
   "cell_type": "code",
   "execution_count": 198,
   "metadata": {},
   "outputs": [
    {
     "data": {
      "text/plain": [
       "array([ [{'joined': 1404716220000, 'group_id': 'DomCode'}, {'joined': 1425280166000, 'group_id': 'Utrecht-JavaScript-Meetup'}]], dtype=object)"
      ]
     },
     "execution_count": 198,
     "metadata": {},
     "output_type": "execute_result"
    }
   ],
   "source": [
    "users[5:6].memberships.values"
   ]
  },
  {
   "cell_type": "markdown",
   "metadata": {},
   "source": [
    "We parse out the 'joined' and 'group_id' elements so that we have series of lists of these features. Then we flatten those series to form a new dataset - *memberships*."
   ]
  },
  {
   "cell_type": "code",
   "execution_count": 199,
   "metadata": {
    "collapsed": true
   },
   "outputs": [],
   "source": [
    "memb_joined = users.memberships.apply(lambda membs: [m['joined'] for m in membs]).values\n",
    "memb_group_id = users.memberships.apply(lambda membs: [m['group_id'] for m in membs]).values\n",
    "memb_user = users.apply(lambda row: [row.user_id for m in row.memberships], axis=1).values\n",
    "memberships = pd.DataFrame({'user_id':list(itertools.chain.from_iterable(memb_user)),\n",
    "                           'joined':list(itertools.chain.from_iterable(memb_joined)),\n",
    "                           'group_id':list(itertools.chain.from_iterable(memb_group_id))})"
   ]
  },
  {
   "cell_type": "code",
   "execution_count": 200,
   "metadata": {},
   "outputs": [
    {
     "data": {
      "text/html": [
       "<div>\n",
       "<style>\n",
       "    .dataframe thead tr:only-child th {\n",
       "        text-align: right;\n",
       "    }\n",
       "\n",
       "    .dataframe thead th {\n",
       "        text-align: left;\n",
       "    }\n",
       "\n",
       "    .dataframe tbody tr th {\n",
       "        vertical-align: top;\n",
       "    }\n",
       "</style>\n",
       "<table border=\"1\" class=\"dataframe\">\n",
       "  <thead>\n",
       "    <tr style=\"text-align: right;\">\n",
       "      <th></th>\n",
       "      <th>group_id</th>\n",
       "      <th>joined</th>\n",
       "      <th>user_id</th>\n",
       "    </tr>\n",
       "  </thead>\n",
       "  <tbody>\n",
       "    <tr>\n",
       "      <th>0</th>\n",
       "      <td>onlineoptimizers</td>\n",
       "      <td>1401194987000</td>\n",
       "      <td>45734</td>\n",
       "    </tr>\n",
       "    <tr>\n",
       "      <th>1</th>\n",
       "      <td>onlineoptimizers</td>\n",
       "      <td>1400505160000</td>\n",
       "      <td>66261</td>\n",
       "    </tr>\n",
       "  </tbody>\n",
       "</table>\n",
       "</div>"
      ],
      "text/plain": [
       "           group_id         joined  user_id\n",
       "0  onlineoptimizers  1401194987000    45734\n",
       "1  onlineoptimizers  1400505160000    66261"
      ]
     },
     "execution_count": 200,
     "metadata": {},
     "output_type": "execute_result"
    }
   ],
   "source": [
    "memberships[0:2]"
   ]
  },
  {
   "cell_type": "markdown",
   "metadata": {},
   "source": [
    "Memberships per group will be needed for scoring, but to use this data for training we must filter out any group memberships from after the event creation date."
   ]
  },
  {
   "cell_type": "code",
   "execution_count": 201,
   "metadata": {},
   "outputs": [
    {
     "data": {
      "text/plain": [
       "group_id\n",
       "Appsterdam                           3516\n",
       "Hackers-and-Founders-Amsterdam-NL    3125\n",
       "ocamsterdam                          2887\n",
       "PermanentBeta                        2528\n",
       "sensemakersams                       2146\n",
       "INTERNATIONALS-in-Rotterdam          2042\n",
       "mangrove                             1940\n",
       "SMC050                               1728\n",
       "OpenCoffeeDenHaag                    1606\n",
       "StartupWeekendAmsterdam              1525\n",
       "Name: user_id, dtype: int64"
      ]
     },
     "execution_count": 201,
     "metadata": {},
     "output_type": "execute_result"
    }
   ],
   "source": [
    "memberships_per_group = memberships.groupby('group_id')['user_id'].count().sort_values(ascending=False)\n",
    "memberships_per_group[0:10]"
   ]
  },
  {
   "cell_type": "code",
   "execution_count": 202,
   "metadata": {},
   "outputs": [
    {
     "data": {
      "text/html": [
       "<div>\n",
       "<style>\n",
       "    .dataframe thead tr:only-child th {\n",
       "        text-align: right;\n",
       "    }\n",
       "\n",
       "    .dataframe thead th {\n",
       "        text-align: left;\n",
       "    }\n",
       "\n",
       "    .dataframe tbody tr th {\n",
       "        vertical-align: top;\n",
       "    }\n",
       "</style>\n",
       "<table border=\"1\" class=\"dataframe\">\n",
       "  <thead>\n",
       "    <tr style=\"text-align: right;\">\n",
       "      <th></th>\n",
       "      <th>event_id</th>\n",
       "      <th>group_id</th>\n",
       "      <th>created</th>\n",
       "      <th>joined</th>\n",
       "      <th>user_id</th>\n",
       "    </tr>\n",
       "  </thead>\n",
       "  <tbody>\n",
       "    <tr>\n",
       "      <th>0</th>\n",
       "      <td>0</td>\n",
       "      <td>INTERNATIONALS-in-Rotterdam</td>\n",
       "      <td>1309088803000</td>\n",
       "      <td>1314890908000</td>\n",
       "      <td>40788</td>\n",
       "    </tr>\n",
       "    <tr>\n",
       "      <th>1</th>\n",
       "      <td>0</td>\n",
       "      <td>INTERNATIONALS-in-Rotterdam</td>\n",
       "      <td>1309088803000</td>\n",
       "      <td>1397202355000</td>\n",
       "      <td>20344</td>\n",
       "    </tr>\n",
       "    <tr>\n",
       "      <th>2</th>\n",
       "      <td>0</td>\n",
       "      <td>INTERNATIONALS-in-Rotterdam</td>\n",
       "      <td>1309088803000</td>\n",
       "      <td>1263579736000</td>\n",
       "      <td>42459</td>\n",
       "    </tr>\n",
       "  </tbody>\n",
       "</table>\n",
       "</div>"
      ],
      "text/plain": [
       "   event_id                     group_id        created         joined  \\\n",
       "0         0  INTERNATIONALS-in-Rotterdam  1309088803000  1314890908000   \n",
       "1         0  INTERNATIONALS-in-Rotterdam  1309088803000  1397202355000   \n",
       "2         0  INTERNATIONALS-in-Rotterdam  1309088803000  1263579736000   \n",
       "\n",
       "   user_id  \n",
       "0    40788  \n",
       "1    20344  \n",
       "2    42459  "
      ]
     },
     "execution_count": 202,
     "metadata": {},
     "output_type": "execute_result"
    }
   ],
   "source": [
    "events['event_id'] = events.index\n",
    "events_with_users = events[['event_id','group_id','created']].merge(memberships)\n",
    "events_with_users[events_with_users.created > events_with_users.joined]\n",
    "events_with_users[0:3]"
   ]
  },
  {
   "cell_type": "code",
   "execution_count": 203,
   "metadata": {
    "collapsed": true
   },
   "outputs": [],
   "source": [
    "group_member_count = events_with_users.groupby('event_id')['group_id'].count()"
   ]
  },
  {
   "cell_type": "code",
   "execution_count": 204,
   "metadata": {},
   "outputs": [
    {
     "data": {
      "text/html": [
       "<div>\n",
       "<style>\n",
       "    .dataframe thead tr:only-child th {\n",
       "        text-align: right;\n",
       "    }\n",
       "\n",
       "    .dataframe thead th {\n",
       "        text-align: left;\n",
       "    }\n",
       "\n",
       "    .dataframe tbody tr th {\n",
       "        vertical-align: top;\n",
       "    }\n",
       "</style>\n",
       "<table border=\"1\" class=\"dataframe\">\n",
       "  <thead>\n",
       "    <tr style=\"text-align: right;\">\n",
       "      <th></th>\n",
       "      <th>group_id</th>\n",
       "      <th>event_id</th>\n",
       "      <th>group_member_count</th>\n",
       "    </tr>\n",
       "  </thead>\n",
       "  <tbody>\n",
       "    <tr>\n",
       "      <th>0</th>\n",
       "      <td>INTERNATIONALS-in-Rotterdam</td>\n",
       "      <td>0</td>\n",
       "      <td>2042</td>\n",
       "    </tr>\n",
       "    <tr>\n",
       "      <th>2</th>\n",
       "      <td>Digital-Museum-Network-Amsterdam</td>\n",
       "      <td>2</td>\n",
       "      <td>423</td>\n",
       "    </tr>\n",
       "  </tbody>\n",
       "</table>\n",
       "</div>"
      ],
      "text/plain": [
       "                           group_id  event_id  group_member_count\n",
       "0       INTERNATIONALS-in-Rotterdam         0                2042\n",
       "2  Digital-Museum-Network-Amsterdam         2                 423"
      ]
     },
     "execution_count": 204,
     "metadata": {},
     "output_type": "execute_result"
    }
   ],
   "source": [
    "events['group_member_count'] = group_member_count\n",
    "events[0:2][['group_id', 'event_id', 'group_member_count']]"
   ]
  },
  {
   "cell_type": "markdown",
   "metadata": {},
   "source": [
    "---"
   ]
  },
  {
   "cell_type": "markdown",
   "metadata": {},
   "source": [
    "### Time from creation to event"
   ]
  },
  {
   "cell_type": "code",
   "execution_count": 205,
   "metadata": {},
   "outputs": [],
   "source": [
    "events['timeFromCreationToEvent'] = events.time - events.created"
   ]
  },
  {
   "cell_type": "markdown",
   "metadata": {},
   "source": [
    "---"
   ]
  },
  {
   "cell_type": "markdown",
   "metadata": {},
   "source": [
    "### Topic vectors"
   ]
  },
  {
   "cell_type": "markdown",
   "metadata": {},
   "source": [
    "Some topics are more interesting than others. To find out if this effects event popularity we will vectorise the topics using Word2Vec. Unlike Doc2Vec, Word2Vec uses a bag-of-words approach (which fits the topics data). While topics can have more than one word, we will treat each topic string as its own token."
   ]
  },
  {
   "cell_type": "markdown",
   "metadata": {},
   "source": [
    "We will train at event level rather than group level so that we don't face any complications with our train/test split (the Word2Vec model should be trained on the training set only)."
   ]
  },
  {
   "cell_type": "code",
   "execution_count": 213,
   "metadata": {},
   "outputs": [],
   "source": [
    " events['topics'] = events.merge(groups, on='group_id').sort_values('event_id').set_index('event_id').topics"
   ]
  },
  {
   "cell_type": "markdown",
   "metadata": {},
   "source": [
    "We will demonstrate the approach on the groups data. It will be re-applied after we have made the train/test split."
   ]
  },
  {
   "cell_type": "code",
   "execution_count": 179,
   "metadata": {},
   "outputs": [],
   "source": [
    "vecSize = 5 #number of features to create\n",
    "w2vModel = Word2Vec(groups.topics, size=vecSize, min_count=1)"
   ]
  },
  {
   "cell_type": "code",
   "execution_count": 180,
   "metadata": {},
   "outputs": [
    {
     "data": {
      "text/plain": [
       "['WCF',\n",
       " 'Project Planning',\n",
       " 'Leadership',\n",
       " 'Software Engineering',\n",
       " 'Enterprise Architecture',\n",
       " 'Software Development',\n",
       " '.NET',\n",
       " 'IDesign Method',\n",
       " 'Windows Azure Platform',\n",
       " 'Software Architecture']"
      ]
     },
     "execution_count": 180,
     "metadata": {},
     "output_type": "execute_result"
    }
   ],
   "source": [
    "groups.topics[0]"
   ]
  },
  {
   "cell_type": "markdown",
   "metadata": {},
   "source": [
    "The vector for one topic:"
   ]
  },
  {
   "cell_type": "code",
   "execution_count": 164,
   "metadata": {},
   "outputs": [
    {
     "data": {
      "text/plain": [
       "array([ 0.02116362,  0.06245093,  0.02922328,  0.07918563, -0.02173011], dtype=float32)"
      ]
     },
     "execution_count": 164,
     "metadata": {},
     "output_type": "execute_result"
    }
   ],
   "source": [
    "w2vModel.wv['Project Planning']"
   ]
  },
  {
   "cell_type": "markdown",
   "metadata": {},
   "source": [
    "The mean of the vectors for all topics in a group:"
   ]
  },
  {
   "cell_type": "code",
   "execution_count": 165,
   "metadata": {},
   "outputs": [
    {
     "data": {
      "text/plain": [
       "array([-0.0431071 ,  0.03123486,  0.02339208, -0.09654646, -0.13693124], dtype=float32)"
      ]
     },
     "execution_count": 165,
     "metadata": {},
     "output_type": "execute_result"
    }
   ],
   "source": [
    "[w2vModel.wv[topic] for topic in groups.topics[0:1]][0].mean(axis=0)"
   ]
  },
  {
   "cell_type": "markdown",
   "metadata": {},
   "source": [
    "#### Helper functions for vectorising topics"
   ]
  },
  {
   "cell_type": "code",
   "execution_count": 166,
   "metadata": {
    "collapsed": true
   },
   "outputs": [],
   "source": [
    "def vectorise_topics(group_topics):\n",
    "    wvecs = []\n",
    "    for topic in group_topics:\n",
    "        try:\n",
    "            wvecs.append(w2vModel.wv[topic])\n",
    "        except:\n",
    "            None\n",
    "    result = np.vstack(wvecs).mean(axis=0) if len(wvecs)>0 else np.zeros(vecSize)\n",
    "    return result  "
   ]
  },
  {
   "cell_type": "code",
   "execution_count": 167,
   "metadata": {},
   "outputs": [
    {
     "data": {
      "text/plain": [
       "array([-0.0566151 ,  0.00828698,  0.03514945, -0.08435114, -0.07341819], dtype=float32)"
      ]
     },
     "execution_count": 167,
     "metadata": {},
     "output_type": "execute_result"
    }
   ],
   "source": [
    "vectorise_topics(['Expat', 'Social Networking', 'Rotterdam', 'Happy Hour', 'The Netherlands', 'Not a real topic'])    "
   ]
  },
  {
   "cell_type": "code",
   "execution_count": 168,
   "metadata": {},
   "outputs": [
    {
     "data": {
      "text/html": [
       "<div>\n",
       "<style>\n",
       "    .dataframe thead tr:only-child th {\n",
       "        text-align: right;\n",
       "    }\n",
       "\n",
       "    .dataframe thead th {\n",
       "        text-align: left;\n",
       "    }\n",
       "\n",
       "    .dataframe tbody tr th {\n",
       "        vertical-align: top;\n",
       "    }\n",
       "</style>\n",
       "<table border=\"1\" class=\"dataframe\">\n",
       "  <thead>\n",
       "    <tr style=\"text-align: right;\">\n",
       "      <th></th>\n",
       "      <th>city</th>\n",
       "      <th>created</th>\n",
       "      <th>description</th>\n",
       "      <th>group_id</th>\n",
       "      <th>lat</th>\n",
       "      <th>link</th>\n",
       "      <th>lon</th>\n",
       "      <th>name</th>\n",
       "      <th>topics</th>\n",
       "      <th>topicvec_0</th>\n",
       "      <th>topicvec_1</th>\n",
       "      <th>topicvec_2</th>\n",
       "      <th>topicvec_3</th>\n",
       "      <th>topicvec_4</th>\n",
       "    </tr>\n",
       "  </thead>\n",
       "  <tbody>\n",
       "    <tr>\n",
       "      <th>0</th>\n",
       "      <td>Den Haag</td>\n",
       "      <td>1386377741000</td>\n",
       "      <td>&lt;p&gt;This group is focused on software architect...</td>\n",
       "      <td>Software-Architecture-and-Project-Design-The-H...</td>\n",
       "      <td>52.080002</td>\n",
       "      <td>http://www.meetup.com/Software-Architecture-an...</td>\n",
       "      <td>4.28</td>\n",
       "      <td>Software Architecture and Project Design The H...</td>\n",
       "      <td>[WCF, Project Planning, Leadership, Software E...</td>\n",
       "      <td>-0.043107</td>\n",
       "      <td>0.031235</td>\n",
       "      <td>0.023392</td>\n",
       "      <td>-0.096546</td>\n",
       "      <td>-0.136931</td>\n",
       "    </tr>\n",
       "    <tr>\n",
       "      <th>1</th>\n",
       "      <td>Amsterdam</td>\n",
       "      <td>1352707128000</td>\n",
       "      <td>&lt;p&gt;FP AMS aims to bring together commercial us...</td>\n",
       "      <td>fp-ams</td>\n",
       "      <td>52.369999</td>\n",
       "      <td>http://www.meetup.com/fp-ams/</td>\n",
       "      <td>4.89</td>\n",
       "      <td>FP AMS</td>\n",
       "      <td>[Scala Play Framework, Functional Programming,...</td>\n",
       "      <td>-0.020570</td>\n",
       "      <td>0.043243</td>\n",
       "      <td>0.034153</td>\n",
       "      <td>-0.090444</td>\n",
       "      <td>-0.076920</td>\n",
       "    </tr>\n",
       "  </tbody>\n",
       "</table>\n",
       "</div>"
      ],
      "text/plain": [
       "        city        created  \\\n",
       "0   Den Haag  1386377741000   \n",
       "1  Amsterdam  1352707128000   \n",
       "\n",
       "                                         description  \\\n",
       "0  <p>This group is focused on software architect...   \n",
       "1  <p>FP AMS aims to bring together commercial us...   \n",
       "\n",
       "                                            group_id        lat  \\\n",
       "0  Software-Architecture-and-Project-Design-The-H...  52.080002   \n",
       "1                                             fp-ams  52.369999   \n",
       "\n",
       "                                                link   lon  \\\n",
       "0  http://www.meetup.com/Software-Architecture-an...  4.28   \n",
       "1                      http://www.meetup.com/fp-ams/  4.89   \n",
       "\n",
       "                                                name  \\\n",
       "0  Software Architecture and Project Design The H...   \n",
       "1                                             FP AMS   \n",
       "\n",
       "                                              topics  topicvec_0  topicvec_1  \\\n",
       "0  [WCF, Project Planning, Leadership, Software E...   -0.043107    0.031235   \n",
       "1  [Scala Play Framework, Functional Programming,...   -0.020570    0.043243   \n",
       "\n",
       "   topicvec_2  topicvec_3  topicvec_4  \n",
       "0    0.023392   -0.096546   -0.136931  \n",
       "1    0.034153   -0.090444   -0.076920  "
      ]
     },
     "execution_count": 168,
     "metadata": {},
     "output_type": "execute_result"
    }
   ],
   "source": [
    "def vectorise_topics_vectorised(events):\n",
    "    vectorised_topics = np.vstack(events.topics.apply(lambda x: vectorise_topics(x)))\n",
    "    for idx in range(vectorised_topics.shape[1]):\n",
    "        events['topicvec_' + str(idx)] = vectorised_topics[:,idx]\n",
    "    return events\n",
    "        \n",
    "vectorise_topics_vectorised(groups)[0:2]"
   ]
  },
  {
   "cell_type": "markdown",
   "metadata": {},
   "source": [
    "---"
   ]
  },
  {
   "cell_type": "markdown",
   "metadata": {},
   "source": [
    "## Training the final model"
   ]
  },
  {
   "cell_type": "markdown",
   "metadata": {},
   "source": [
    "Here is our final dataset, with the topics yet to be vectorised:"
   ]
  },
  {
   "cell_type": "code",
   "execution_count": 214,
   "metadata": {
    "scrolled": true
   },
   "outputs": [
    {
     "data": {
      "text/html": [
       "<div>\n",
       "<style>\n",
       "    .dataframe thead tr:only-child th {\n",
       "        text-align: right;\n",
       "    }\n",
       "\n",
       "    .dataframe thead th {\n",
       "        text-align: left;\n",
       "    }\n",
       "\n",
       "    .dataframe tbody tr th {\n",
       "        vertical-align: top;\n",
       "    }\n",
       "</style>\n",
       "<table border=\"1\" class=\"dataframe\">\n",
       "  <thead>\n",
       "    <tr style=\"text-align: right;\">\n",
       "      <th></th>\n",
       "      <th>rsvp_limit</th>\n",
       "      <th>duration</th>\n",
       "      <th>timeFromCreationToEvent</th>\n",
       "      <th>group_member_count</th>\n",
       "      <th>topics</th>\n",
       "      <th>rsvp_yes</th>\n",
       "    </tr>\n",
       "  </thead>\n",
       "  <tbody>\n",
       "    <tr>\n",
       "      <th>0</th>\n",
       "      <td>500.0</td>\n",
       "      <td>-1.0</td>\n",
       "      <td>9.673970e+08</td>\n",
       "      <td>2042</td>\n",
       "      <td>[Expat, Social Networking, Rotterdam, Happy Ho...</td>\n",
       "      <td>45</td>\n",
       "    </tr>\n",
       "    <tr>\n",
       "      <th>2</th>\n",
       "      <td>12.0</td>\n",
       "      <td>-1.0</td>\n",
       "      <td>1.388446e+09</td>\n",
       "      <td>423</td>\n",
       "      <td>[Historical Museum, Web Technology, Museum, Ne...</td>\n",
       "      <td>5</td>\n",
       "    </tr>\n",
       "    <tr>\n",
       "      <th>3</th>\n",
       "      <td>100.0</td>\n",
       "      <td>10800000.0</td>\n",
       "      <td>1.031852e+10</td>\n",
       "      <td>497</td>\n",
       "      <td>[Innovation, Product Development, Lean Startup...</td>\n",
       "      <td>79</td>\n",
       "    </tr>\n",
       "    <tr>\n",
       "      <th>4</th>\n",
       "      <td>500.0</td>\n",
       "      <td>-1.0</td>\n",
       "      <td>1.827191e+09</td>\n",
       "      <td>344</td>\n",
       "      <td>[gamification at work, Engagement Design, Ente...</td>\n",
       "      <td>17</td>\n",
       "    </tr>\n",
       "    <tr>\n",
       "      <th>5</th>\n",
       "      <td>500.0</td>\n",
       "      <td>16200000.0</td>\n",
       "      <td>5.799950e+08</td>\n",
       "      <td>28</td>\n",
       "      <td>[E Commerce, E-Commerce, Bio, Online Marketing...</td>\n",
       "      <td>3</td>\n",
       "    </tr>\n",
       "  </tbody>\n",
       "</table>\n",
       "</div>"
      ],
      "text/plain": [
       "   rsvp_limit    duration  timeFromCreationToEvent  group_member_count  \\\n",
       "0       500.0        -1.0             9.673970e+08                2042   \n",
       "2        12.0        -1.0             1.388446e+09                 423   \n",
       "3       100.0  10800000.0             1.031852e+10                 497   \n",
       "4       500.0        -1.0             1.827191e+09                 344   \n",
       "5       500.0  16200000.0             5.799950e+08                  28   \n",
       "\n",
       "                                              topics  rsvp_yes  \n",
       "0  [Expat, Social Networking, Rotterdam, Happy Ho...        45  \n",
       "2  [Historical Museum, Web Technology, Museum, Ne...         5  \n",
       "3  [Innovation, Product Development, Lean Startup...        79  \n",
       "4  [gamification at work, Engagement Design, Ente...        17  \n",
       "5  [E Commerce, E-Commerce, Bio, Online Marketing...         3  "
      ]
     },
     "execution_count": 214,
     "metadata": {},
     "output_type": "execute_result"
    }
   ],
   "source": [
    "required_fields = ['rsvp_limit','duration','timeFromCreationToEvent','group_member_count', 'topics']\n",
    "selected_events = events[events.status == 'past'][required_fields + ['rsvp_yes']]\n",
    "selected_events['duration'].fillna(-1, inplace=True)\n",
    "selected_events[0:5]"
   ]
  },
  {
   "cell_type": "markdown",
   "metadata": {},
   "source": [
    "### Model build and evaluation helper functions"
   ]
  },
  {
   "cell_type": "markdown",
   "metadata": {},
   "source": [
    "Define search space for hyperparameter search."
   ]
  },
  {
   "cell_type": "code",
   "execution_count": 216,
   "metadata": {},
   "outputs": [],
   "source": [
    "param_dist_rf = {\"max_depth\": [3, None],\n",
    "              #\"max_features\": randint(1, len(X_train.columns)),\n",
    "              \"min_samples_split\": randint(2, 11),\n",
    "              \"min_samples_leaf\": randint(1, 11),\n",
    "              \"n_estimators\": randint(1, 100),\n",
    "              \"bootstrap\": [True, False],\n",
    "              #\"criterion\": [\"gini\", \"entropy\"]\n",
    "                }\n",
    "\n",
    "param_dist_svm = {'C': expon(scale=10),\n",
    "                  'gamma': expon(scale=1),\n",
    "                  'kernel': ['rbf', 'linear']}"
   ]
  },
  {
   "cell_type": "markdown",
   "metadata": {},
   "source": [
    "Define randomised hyperparameter search for a support vector regression and a random forest regression"
   ]
  },
  {
   "cell_type": "code",
   "execution_count": 218,
   "metadata": {
    "collapsed": true
   },
   "outputs": [],
   "source": [
    "rfr = RandomForestRegressor()\n",
    "svr = SVR()\n",
    "svr_search = RandomizedSearchCV(svr, param_distributions=param_dist_svm, n_iter=2)\n",
    "rfr_search = RandomizedSearchCV(rfr, param_distributions=param_dist_rf, n_iter=20)"
   ]
  },
  {
   "cell_type": "markdown",
   "metadata": {},
   "source": [
    "Evaluation function that tells us the R-squared for training and testing sets"
   ]
  },
  {
   "cell_type": "code",
   "execution_count": 223,
   "metadata": {
    "collapsed": true
   },
   "outputs": [],
   "source": [
    "def evaluate(model, X_train, X_test, Y_train, Y_test, plots=True):\n",
    "    print(\"Parameters of best model:\\n %s\" % model.get_params())\n",
    "    \n",
    "    if plots:\n",
    "        plotDf = pd.DataFrame({'y': Y_test, 'yhat': model.predict(X_test)})\n",
    "        sns.jointplot(x=\"yhat\", y=\"y\", data=plotDf)\n",
    "\n",
    "    r2_train = r2_score(Y_train, model.predict(X_train))\n",
    "    r2_test = r2_score(Y_test, model.predict(X_test))\n",
    "    print(\"\\nR-square train: %f\" % r2_train)\n",
    "    print(\"R-square test: %f\" % r2_test)\n",
    "    \n",
    "    if type(model) == RandomForestRegressor:\n",
    "        print(\"\\n\")\n",
    "        print(pd.DataFrame({'features': X_train.columns, 'importances': model.feature_importances_}). \\\n",
    "        sort_values('importances', ascending=False))\n",
    "    \n",
    "    return None"
   ]
  },
  {
   "cell_type": "markdown",
   "metadata": {},
   "source": [
    "### Run the model"
   ]
  },
  {
   "cell_type": "code",
   "execution_count": 222,
   "metadata": {},
   "outputs": [
    {
     "name": "stdout",
     "output_type": "stream",
     "text": [
      "4221 records in the training set\n",
      "1407 records in the testing set\n",
      "Parameters of best model:\n",
      " {'bootstrap': True, 'criterion': 'mse', 'max_depth': None, 'max_features': 'auto', 'max_leaf_nodes': None, 'min_impurity_split': 1e-07, 'min_samples_leaf': 1, 'min_samples_split': 9, 'min_weight_fraction_leaf': 0.0, 'n_estimators': 60, 'n_jobs': 1, 'oob_score': False, 'random_state': None, 'verbose': 0, 'warm_start': False}\n",
      "\n",
      "R-square train: 0.888540\n",
      "R-square test: 0.735135\n",
      "\n",
      "\n",
      "                  features  importances\n",
      "3       group_member_count     0.244935\n",
      "0               rsvp_limit     0.244651\n",
      "6               topicvec_2     0.142592\n",
      "2  timeFromCreationToEvent     0.098841\n",
      "7               topicvec_3     0.080474\n",
      "4               topicvec_0     0.058360\n",
      "5               topicvec_1     0.051007\n",
      "1                 duration     0.041612\n",
      "8               topicvec_4     0.037528\n"
     ]
    },
    {
     "data": {
      "image/png": "[encoded data removed]",
      "text/plain": [
       "<matplotlib.figure.Figure at 0x1ca2d8a8d30>"
      ]
     },
     "metadata": {},
     "output_type": "display_data"
    }
   ],
   "source": [
    "warnings.filterwarnings('ignore')\n",
    "X = selected_events.drop('rsvp_yes', axis=1)\n",
    "Y = selected_events['rsvp_yes']\n",
    "X_train, X_test, Y_train, Y_test = train_test_split(X, Y, train_size = 0.75)\n",
    "print(\"%i records in the training set\" % Y_train.count())\n",
    "print(\"%i records in the testing set\" % Y_test.count())\n",
    "\n",
    "w2vModel = Word2Vec(X_train.topics, size=vecSize, min_count=1)\n",
    "X_train = vectorise_topics_vectorised(X_train).drop('topics', axis=1)\n",
    "X_test = vectorise_topics_vectorised(X_test).drop('topics', axis=1)\n",
    "\n",
    "rfr_search.fit(X_train, Y_train)\n",
    "evaluate(rfr_search.best_estimator_, X_train, X_test, Y_train, Y_test, plots=True)"
   ]
  },
  {
   "cell_type": "markdown",
   "metadata": {},
   "source": [
    "---"
   ]
  },
  {
   "cell_type": "markdown",
   "metadata": {},
   "source": [
    "## Create scorer"
   ]
  },
  {
   "cell_type": "markdown",
   "metadata": {},
   "source": [
    "These are the objects we will need to score new data with"
   ]
  },
  {
   "cell_type": "code",
   "execution_count": 224,
   "metadata": {},
   "outputs": [],
   "source": [
    "scorObj = {'rfr_search': rfr_search,\n",
    "            'memberships_per_group': memberships_per_group,\n",
    "            'maxRsvpLimit': maxRsvpLimit,\n",
    "            'w2vModel': w2vModel,\n",
    "            'required_fields': required_fields,\n",
    "          'vecSize':vecSize}\n",
    "#joblib.dump(scorObj, '../Data/scoring_objects.pkl')"
   ]
  },
  {
   "cell_type": "markdown",
   "metadata": {},
   "source": [
    "Create an example query to test the scorer with"
   ]
  },
  {
   "cell_type": "code",
   "execution_count": 228,
   "metadata": {},
   "outputs": [
    {
     "data": {
      "text/plain": [
       "{'created': 1309088803000,\n",
       " 'duration': None,\n",
       " 'group_id': 'INTERNATIONALS-in-Rotterdam',\n",
       " 'rsvp_limit': None,\n",
       " 'time': 1310056200000,\n",
       " 'topics': ['WCF',\n",
       "  'Project Planning',\n",
       "  'Leadership',\n",
       "  'Software Engineering',\n",
       "  'Enterprise Architecture',\n",
       "  'Software Development',\n",
       "  '.NET',\n",
       "  'IDesign Method',\n",
       "  'Windows Azure Platform',\n",
       "  'Software Architecture']}"
      ]
     },
     "execution_count": 228,
     "metadata": {},
     "output_type": "execute_result"
    }
   ],
   "source": [
    "with open('../Data/events.json') as f:\n",
    "    events_example = json.load(f)[0]\n",
    "    \n",
    "with open('../Data/groups.json') as f:\n",
    "    groups_example = json.load(f)[0]\n",
    "    \n",
    "required_fields = ['rsvp_limit','duration','time','created','group_id','topics']\n",
    "example_query = {k:v for k,v in {**groups_example, **events_example}.items() if k in required_fields}\n",
    "\n",
    "example_query"
   ]
  },
  {
   "cell_type": "markdown",
   "metadata": {},
   "source": [
    "Define a class that creates features from a query and predicts the number of RSVPs"
   ]
  },
  {
   "cell_type": "code",
   "execution_count": 229,
   "metadata": {
    "collapsed": true
   },
   "outputs": [],
   "source": [
    "class model:\n",
    "    def __init__(self, rfr_search, memberships_per_group, maxRsvpLimit, w2vModel):\n",
    "        self.rfr_search = rfr_search\n",
    "        self.memberships_per_group = memberships_per_group\n",
    "        self.maxRsvpLimit = maxRsvpLimit\n",
    "        self.w2vModel = w2vModel\n",
    "    \n",
    "    def vectorise_topics(self, group_topics):\n",
    "        wvecs = []\n",
    "        for topic in group_topics:\n",
    "            try:\n",
    "                wvecs.append(self.w2vModel.wv[topic])\n",
    "            except:\n",
    "                None\n",
    "        result = np.vstack(wvecs).mean(axis=0) if len(wvecs)>0 else np.zeros(vecSize)\n",
    "        return result  \n",
    "\n",
    "    def score(self, query):\n",
    "        record_to_score = np.hstack([np.array([query['rsvp_limit'] if query['rsvp_limit'] else self.maxRsvpLimit,\n",
    "                                           query['duration'] if query['duration'] else -1,\n",
    "                                           query['time'] - query['created'],\n",
    "                                           self.memberships_per_group[query['group_id']]]),\n",
    "                                 vectorise_topics(example_query['topics'])]).reshape(1, -1)\n",
    "        prediction = int(round(self.rfr_search.best_estimator_.predict(record_to_score)[0]))\n",
    "        return prediction"
   ]
  },
  {
   "cell_type": "code",
   "execution_count": 230,
   "metadata": {},
   "outputs": [
    {
     "data": {
      "text/plain": [
       "76"
      ]
     },
     "execution_count": 230,
     "metadata": {},
     "output_type": "execute_result"
    }
   ],
   "source": [
    "modelInstance = model(scorObj['rfr_search'], scorObj['memberships_per_group'], scorObj['maxRsvpLimit'], scorObj['w2vModel'])\n",
    "modelInstance.score(example_query)"
   ]
  }
 ],
 "metadata": {
  "kernelspec": {
   "display_name": "Python 3",
   "language": "python",
   "name": "python3"
  },
  "language_info": {
   "codemirror_mode": {
    "name": "ipython",
    "version": 3
   },
   "file_extension": ".py",
   "mimetype": "text/x-python",
   "name": "python",
   "nbconvert_exporter": "python",
   "pygments_lexer": "ipython3",
   "version": "3.6.1"
  }
 },
 "nbformat": 4,
 "nbformat_minor": 2
}
