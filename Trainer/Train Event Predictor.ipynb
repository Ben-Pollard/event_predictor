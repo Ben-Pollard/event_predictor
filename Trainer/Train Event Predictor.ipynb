{
 "cells": [
  {
   "cell_type": "markdown",
   "metadata": {},
   "source": [
    "# RSVP Response Prediction for New Tech Meetups"
   ]
  },
  {
   "cell_type": "markdown",
   "metadata": {},
   "source": [
    "## Developing a Minimum Viable Prouct"
   ]
  },
  {
   "cell_type": "code",
   "execution_count": 222,
   "metadata": {
    "collapsed": true
   },
   "outputs": [],
   "source": [
    "import pandas as pd\n",
    "import numpy as np\n",
    "import os\n",
    "from sklearn.ensemble import RandomForestRegressor\n",
    "from sklearn.model_selection import train_test_split\n",
    "from sklearn.metrics import r2_score\n",
    "from sklearn.externals import joblib\n",
    "import itertools\n",
    "from gensim.models import Word2Vec"
   ]
  },
  {
   "cell_type": "markdown",
   "metadata": {},
   "source": [
    "#### Read and inspect data"
   ]
  },
  {
   "cell_type": "code",
   "execution_count": 2,
   "metadata": {},
   "outputs": [
    {
     "data": {
      "text/plain": [
       "'C:\\\\projects\\\\event_predictor\\\\Trainer'"
      ]
     },
     "execution_count": 2,
     "metadata": {},
     "output_type": "execute_result"
    }
   ],
   "source": [
    "os.getcwd()"
   ]
  },
  {
   "cell_type": "code",
   "execution_count": 3,
   "metadata": {},
   "outputs": [],
   "source": [
    "events = pd.read_json('../Data/events.json')\n",
    "groups = pd.read_json('../Data/groups.json')\n",
    "users = pd.read_json('../Data/users.json')\n",
    "venues = pd.read_json('../Data/venues.json')"
   ]
  },
  {
   "cell_type": "code",
   "execution_count": 4,
   "metadata": {},
   "outputs": [
    {
     "data": {
      "text/html": [
       "<div>\n",
       "<style>\n",
       "    .dataframe thead tr:only-child th {\n",
       "        text-align: right;\n",
       "    }\n",
       "\n",
       "    .dataframe thead th {\n",
       "        text-align: left;\n",
       "    }\n",
       "\n",
       "    .dataframe tbody tr th {\n",
       "        vertical-align: top;\n",
       "    }\n",
       "</style>\n",
       "<table border=\"1\" class=\"dataframe\">\n",
       "  <thead>\n",
       "    <tr style=\"text-align: right;\">\n",
       "      <th></th>\n",
       "      <th>created</th>\n",
       "      <th>description</th>\n",
       "      <th>duration</th>\n",
       "      <th>group_id</th>\n",
       "      <th>name</th>\n",
       "      <th>rsvp_limit</th>\n",
       "      <th>rsvps</th>\n",
       "      <th>status</th>\n",
       "      <th>time</th>\n",
       "      <th>venue_id</th>\n",
       "    </tr>\n",
       "  </thead>\n",
       "  <tbody>\n",
       "    <tr>\n",
       "      <th>0</th>\n",
       "      <td>1309088803000</td>\n",
       "      <td>&lt;p&gt;&lt;img src=\"http://photos2.meetupstatic.com/p...</td>\n",
       "      <td>NaN</td>\n",
       "      <td>INTERNATIONALS-in-Rotterdam</td>\n",
       "      <td>INTERNATIONALS meet INTERNATIONALS- Midsummer ...</td>\n",
       "      <td>NaN</td>\n",
       "      <td>[{'guests': 0, 'when': 1309881442000, 'respons...</td>\n",
       "      <td>past</td>\n",
       "      <td>1.310056e+12</td>\n",
       "      <td>68572</td>\n",
       "    </tr>\n",
       "    <tr>\n",
       "      <th>1</th>\n",
       "      <td>1439890905000</td>\n",
       "      <td>&lt;p&gt;'s Avonds je laptop openklappen om iets leu...</td>\n",
       "      <td>NaN</td>\n",
       "      <td>codecave</td>\n",
       "      <td>Let's code some fun stuff!</td>\n",
       "      <td>12.0</td>\n",
       "      <td>[{'guests': 0, 'when': 1439922626000, 'respons...</td>\n",
       "      <td>upcoming</td>\n",
       "      <td>1.448476e+12</td>\n",
       "      <td>67856</td>\n",
       "    </tr>\n",
       "    <tr>\n",
       "      <th>2</th>\n",
       "      <td>1287573554000</td>\n",
       "      <td>&lt;p&gt;dear members,&lt;/p&gt; &lt;p&gt;Friday 5th of November...</td>\n",
       "      <td>NaN</td>\n",
       "      <td>Digital-Museum-Network-Amsterdam</td>\n",
       "      <td>Presentation of new applications/projects</td>\n",
       "      <td>12.0</td>\n",
       "      <td>[{'guests': 0, 'when': 1288771966000, 'respons...</td>\n",
       "      <td>past</td>\n",
       "      <td>1.288962e+12</td>\n",
       "      <td>67870</td>\n",
       "    </tr>\n",
       "  </tbody>\n",
       "</table>\n",
       "</div>"
      ],
      "text/plain": [
       "         created                                        description  duration  \\\n",
       "0  1309088803000  <p><img src=\"http://photos2.meetupstatic.com/p...       NaN   \n",
       "1  1439890905000  <p>'s Avonds je laptop openklappen om iets leu...       NaN   \n",
       "2  1287573554000  <p>dear members,</p> <p>Friday 5th of November...       NaN   \n",
       "\n",
       "                           group_id  \\\n",
       "0       INTERNATIONALS-in-Rotterdam   \n",
       "1                          codecave   \n",
       "2  Digital-Museum-Network-Amsterdam   \n",
       "\n",
       "                                                name  rsvp_limit  \\\n",
       "0  INTERNATIONALS meet INTERNATIONALS- Midsummer ...         NaN   \n",
       "1                         Let's code some fun stuff!        12.0   \n",
       "2          Presentation of new applications/projects        12.0   \n",
       "\n",
       "                                               rsvps    status          time  \\\n",
       "0  [{'guests': 0, 'when': 1309881442000, 'respons...      past  1.310056e+12   \n",
       "1  [{'guests': 0, 'when': 1439922626000, 'respons...  upcoming  1.448476e+12   \n",
       "2  [{'guests': 0, 'when': 1288771966000, 'respons...      past  1.288962e+12   \n",
       "\n",
       "   venue_id  \n",
       "0     68572  \n",
       "1     67856  \n",
       "2     67870  "
      ]
     },
     "execution_count": 4,
     "metadata": {},
     "output_type": "execute_result"
    }
   ],
   "source": [
    "events[0:3]"
   ]
  },
  {
   "cell_type": "markdown",
   "metadata": {},
   "source": [
    "The events dataset contains our target variable of number of RSVPs. It also contains at least 1 feature (*rsvp_limit*) that can be used to predict number of RSVPs, so we can create a minimum viable product just from this dataset.\n",
    "\n",
    "Our first steps will be:\n",
    "1. to filter out any events that haven't happened yet as we can't know the final RSVP number for these\n",
    "2. to parse the count of positive RSVPs from the *rsvps* field\n",
    "3. to infill null values in *rsvp_limit* - we will choose to infill with the max observed value in case we want to use a model type that will treat it as a continuous feature."
   ]
  },
  {
   "cell_type": "markdown",
   "metadata": {},
   "source": [
    "#### Create training data"
   ]
  },
  {
   "cell_type": "code",
   "execution_count": 88,
   "metadata": {},
   "outputs": [
    {
     "name": "stdout",
     "output_type": "stream",
     "text": [
      "Number of events: 6200\n",
      "Number of events in past: 5628\n"
     ]
    }
   ],
   "source": [
    "print(\"Number of events: %i\" % len(events))\n",
    "print(\"Number of events in past: %i\" % (events.status == 'past').sum())"
   ]
  },
  {
   "cell_type": "code",
   "execution_count": 345,
   "metadata": {},
   "outputs": [
    {
     "data": {
      "text/html": [
       "<div>\n",
       "<style>\n",
       "    .dataframe thead tr:only-child th {\n",
       "        text-align: right;\n",
       "    }\n",
       "\n",
       "    .dataframe thead th {\n",
       "        text-align: left;\n",
       "    }\n",
       "\n",
       "    .dataframe tbody tr th {\n",
       "        vertical-align: top;\n",
       "    }\n",
       "</style>\n",
       "<table border=\"1\" class=\"dataframe\">\n",
       "  <thead>\n",
       "    <tr style=\"text-align: right;\">\n",
       "      <th></th>\n",
       "      <th>rsvp_yes</th>\n",
       "      <th>rsvp_limit</th>\n",
       "    </tr>\n",
       "  </thead>\n",
       "  <tbody>\n",
       "    <tr>\n",
       "      <th>0</th>\n",
       "      <td>45</td>\n",
       "      <td>500.0</td>\n",
       "    </tr>\n",
       "    <tr>\n",
       "      <th>2</th>\n",
       "      <td>5</td>\n",
       "      <td>12.0</td>\n",
       "    </tr>\n",
       "    <tr>\n",
       "      <th>3</th>\n",
       "      <td>79</td>\n",
       "      <td>100.0</td>\n",
       "    </tr>\n",
       "  </tbody>\n",
       "</table>\n",
       "</div>"
      ],
      "text/plain": [
       "   rsvp_yes  rsvp_limit\n",
       "0        45       500.0\n",
       "2         5        12.0\n",
       "3        79       100.0"
      ]
     },
     "execution_count": 345,
     "metadata": {},
     "output_type": "execute_result"
    }
   ],
   "source": [
    "def parse_rsvp(rsvp_json):\n",
    "    return sum([e['response']=='yes' for e in rsvp_json])\n",
    "\n",
    "events['rsvp_yes'] = events.rsvps.apply(lambda x: parse_rsvp(x))\n",
    "\n",
    "selected_data = events[events.status == 'past'][['rsvp_yes','rsvp_limit']]\n",
    "\n",
    "maxRsvpLimit = selected_data.rsvp_limit.max()\n",
    "selected_data['rsvp_limit'].fillna(maxRsvpLimit, inplace=True)\n",
    "\n",
    "selected_data[0:3]"
   ]
  },
  {
   "cell_type": "markdown",
   "metadata": {},
   "source": [
    "Now we define our training and testing sets"
   ]
  },
  {
   "cell_type": "code",
   "execution_count": 6,
   "metadata": {},
   "outputs": [
    {
     "name": "stdout",
     "output_type": "stream",
     "text": [
      "4221 records in the training set\n",
      "1407 records in the testing set\n"
     ]
    }
   ],
   "source": [
    "X = selected_data.drop('rsvp_yes', axis=1)\n",
    "Y = selected_data['rsvp_yes']\n",
    "X_train, X_test, Y_train, Y_test = train_test_split(X, Y, train_size = 0.75)\n",
    "print(\"%i records in the training set\" % Y_train.count())\n",
    "print(\"%i records in the testing set\" % Y_test.count())"
   ]
  },
  {
   "cell_type": "markdown",
   "metadata": {},
   "source": [
    "#### MVP model"
   ]
  },
  {
   "cell_type": "markdown",
   "metadata": {},
   "source": [
    "And fit our first model. "
   ]
  },
  {
   "cell_type": "code",
   "execution_count": 71,
   "metadata": {},
   "outputs": [
    {
     "name": "stdout",
     "output_type": "stream",
     "text": [
      "R-square train: 0.373529\n",
      "R-square test: 0.352500\n"
     ]
    }
   ],
   "source": [
    "rf = RandomForestRegressor()\n",
    "rf.fit(X_train, Y_train)\n",
    "\n",
    "r2_train = r2_score(Y_train, rf.predict(X_train))\n",
    "r2_test = r2_score(Y_test, rf.predict(X_test))\n",
    "print(\"R-square train: %f\" % r2_train)\n",
    "print(\"R-square test: %f\" % r2_test)"
   ]
  },
  {
   "cell_type": "code",
   "execution_count": 72,
   "metadata": {},
   "outputs": [
    {
     "data": {
      "text/plain": [
       "{'bootstrap': True,\n",
       " 'criterion': 'mse',\n",
       " 'max_depth': None,\n",
       " 'max_features': 'auto',\n",
       " 'max_leaf_nodes': None,\n",
       " 'min_impurity_split': 1e-07,\n",
       " 'min_samples_leaf': 1,\n",
       " 'min_samples_split': 2,\n",
       " 'min_weight_fraction_leaf': 0.0,\n",
       " 'n_estimators': 10,\n",
       " 'n_jobs': 1,\n",
       " 'oob_score': False,\n",
       " 'random_state': None,\n",
       " 'verbose': 0,\n",
       " 'warm_start': False}"
      ]
     },
     "execution_count": 72,
     "metadata": {},
     "output_type": "execute_result"
    }
   ],
   "source": [
    "rf.get_params()"
   ]
  },
  {
   "cell_type": "markdown",
   "metadata": {},
   "source": [
    "We observe that this model, although it is very simple so far, already suffers from some overfitting.\n",
    "\n",
    "Later on we can simplify the model parameters (e.g. switch to a linear model, reduce the tree depth etc.) or even make the most of the few records we have using a k-fold cross-validation scheme. "
   ]
  },
  {
   "cell_type": "markdown",
   "metadata": {},
   "source": [
    "However, for now we will persist the trained model so we can use it to develop an MVP (minimum viable product) of the scoring API.\n",
    "\n",
    "We save the names of the required fields so the API can return a useful error if any fields are missing from the request.\n",
    "\n",
    "Further discussion of the scoring API is outside of the scope of this presentation."
   ]
  },
  {
   "cell_type": "code",
   "execution_count": 8,
   "metadata": {},
   "outputs": [
    {
     "data": {
      "text/plain": [
       "['../Data/required_fields.pkl']"
      ]
     },
     "execution_count": 8,
     "metadata": {},
     "output_type": "execute_result"
    }
   ],
   "source": [
    "joblib.dump(rf, '../Data/rf.pkl')\n",
    "\n",
    "required_fields = ['rsvp_limit']\n",
    "joblib.dump(required_fields, '../Data/required_fields.pkl')"
   ]
  },
  {
   "cell_type": "markdown",
   "metadata": {},
   "source": [
    "----"
   ]
  },
  {
   "cell_type": "markdown",
   "metadata": {},
   "source": [
    "## Create model training and evaluation helpers"
   ]
  },
  {
   "cell_type": "markdown",
   "metadata": {},
   "source": [
    "Engineering more features won't help us much at this stage, so instead we are going to get more insight into the distribution of the target variable and into the residuals.\n",
    "\n",
    "Following on from that we will develop a helper function to help us reduce over-fitting."
   ]
  },
  {
   "cell_type": "code",
   "execution_count": 9,
   "metadata": {},
   "outputs": [
    {
     "data": {
      "text/plain": [
       "<matplotlib.axes._subplots.AxesSubplot at 0x230bfa57cf8>"
      ]
     },
     "execution_count": 9,
     "metadata": {},
     "output_type": "execute_result"
    },
    {
     "data": {
      "image/png": "[encoded data removed]",
      "text/plain": [
       "<matplotlib.figure.Figure at 0x230c1244358>"
      ]
     },
     "metadata": {},
     "output_type": "display_data"
    }
   ],
   "source": [
    "import seaborn as sns\n",
    "%matplotlib inline\n",
    "sns.distplot(Y)"
   ]
  },
  {
   "cell_type": "markdown",
   "metadata": {},
   "source": [
    "Looks like a Poisson distribution. Maybe we could think about a generalised linear model (GLM)?\n",
    "\n",
    "Let's just check the distribution of *rsvp_limit* as that's likely to be an important feature..."
   ]
  },
  {
   "cell_type": "code",
   "execution_count": 10,
   "metadata": {},
   "outputs": [
    {
     "data": {
      "text/plain": [
       "<matplotlib.axes._subplots.AxesSubplot at 0x230bfb64dd8>"
      ]
     },
     "execution_count": 10,
     "metadata": {},
     "output_type": "execute_result"
    },
    {
     "data": {
      "image/png": "[encoded data removed]",
      "text/plain": [
       "<matplotlib.figure.Figure at 0x230c120bcc0>"
      ]
     },
     "metadata": {},
     "output_type": "display_data"
    }
   ],
   "source": [
    "sns.distplot(X.rsvp_limit)"
   ]
  },
  {
   "cell_type": "markdown",
   "metadata": {},
   "source": [
    "A GLM won't work well with this distribution. Either a non-linear SVM or a random forest are likely to be more productive. Transforming *rsvp_yes* won't help them so let's move on."
   ]
  },
  {
   "cell_type": "code",
   "execution_count": 11,
   "metadata": {},
   "outputs": [
    {
     "data": {
      "text/plain": [
       "<seaborn.axisgrid.JointGrid at 0x230bfb5f550>"
      ]
     },
     "execution_count": 11,
     "metadata": {},
     "output_type": "execute_result"
    },
    {
     "data": {
      "image/png": "[encoded data removed]",
      "text/plain": [
       "<matplotlib.figure.Figure at 0x230bfd8eeb8>"
      ]
     },
     "metadata": {},
     "output_type": "display_data"
    }
   ],
   "source": [
    "plotDf = pd.DataFrame({'y': Y_test, 'yhat': rf.predict(X_test)})\n",
    "sns.jointplot(x=\"yhat\", y=\"y\", data=plotDf)"
   ]
  },
  {
   "cell_type": "markdown",
   "metadata": {},
   "source": [
    "### More sophisticated model building process"
   ]
  },
  {
   "cell_type": "markdown",
   "metadata": {},
   "source": [
    "Define search space for hyperparameter search."
   ]
  },
  {
   "cell_type": "code",
   "execution_count": 73,
   "metadata": {},
   "outputs": [],
   "source": [
    "from sklearn.model_selection import RandomizedSearchCV\n",
    "from scipy.stats import randint, expon\n",
    "\n",
    "param_dist_rf = {\"max_depth\": [3, None],\n",
    "              #\"max_features\": randint(1, len(X_train.columns)),\n",
    "              \"min_samples_split\": randint(2, 11),\n",
    "              \"min_samples_leaf\": randint(1, 11),\n",
    "              \"n_estimators\": randint(1, 100),\n",
    "              \"bootstrap\": [True, False],\n",
    "              #\"criterion\": [\"gini\", \"entropy\"]\n",
    "                }\n",
    "\n",
    "param_dist_svm = {'C': expon(scale=10),\n",
    "                  'gamma': expon(scale=1),\n",
    "                  'kernel': ['rbf', 'linear']}"
   ]
  },
  {
   "cell_type": "code",
   "execution_count": 74,
   "metadata": {
    "collapsed": true
   },
   "outputs": [],
   "source": [
    "from sklearn.svm import SVR\n",
    "rfr = RandomForestRegressor()\n",
    "svr = SVR()\n",
    "svr_search = RandomizedSearchCV(svr, param_distributions=param_dist_svm, n_iter=2)\n",
    "rfr_search = RandomizedSearchCV(rfr, param_distributions=param_dist_rf, n_iter=20)"
   ]
  },
  {
   "cell_type": "code",
   "execution_count": 51,
   "metadata": {},
   "outputs": [
    {
     "data": {
      "text/plain": [
       "RandomizedSearchCV(cv=None, error_score='raise',\n",
       "          estimator=SVR(C=1.0, cache_size=200, coef0=0.0, degree=3, epsilon=0.1, gamma='auto',\n",
       "  kernel='rbf', max_iter=-1, shrinking=True, tol=0.001, verbose=False),\n",
       "          fit_params={}, iid=True, n_iter=2, n_jobs=1,\n",
       "          param_distributions={'C': <scipy.stats._distn_infrastructure.rv_frozen object at 0x00000230C0C6EA20>, 'gamma': <scipy.stats._distn_infrastructure.rv_frozen object at 0x00000230C02B6828>, 'kernel': ['rbf', 'linear']},\n",
       "          pre_dispatch='2*n_jobs', random_state=None, refit=True,\n",
       "          return_train_score=True, scoring=None, verbose=0)"
      ]
     },
     "execution_count": 51,
     "metadata": {},
     "output_type": "execute_result"
    }
   ],
   "source": [
    "svr_search.fit(X_train, Y_train)"
   ]
  },
  {
   "cell_type": "code",
   "execution_count": 75,
   "metadata": {},
   "outputs": [
    {
     "data": {
      "text/plain": [
       "RandomizedSearchCV(cv=None, error_score='raise',\n",
       "          estimator=RandomForestRegressor(bootstrap=True, criterion='mse', max_depth=None,\n",
       "           max_features='auto', max_leaf_nodes=None,\n",
       "           min_impurity_split=1e-07, min_samples_leaf=1,\n",
       "           min_samples_split=2, min_weight_fraction_leaf=0.0,\n",
       "           n_estimators=10, n_jobs=1, oob_score=False, random_state=None,\n",
       "           verbose=0, warm_start=False),\n",
       "          fit_params={}, iid=True, n_iter=20, n_jobs=1,\n",
       "          param_distributions={'max_depth': [3, None], 'min_samples_split': <scipy.stats._distn_infrastructure.rv_frozen object at 0x00000230C04FC6D8>, 'min_samples_leaf': <scipy.stats._distn_infrastructure.rv_frozen object at 0x00000230C087D438>, 'n_estimators': <scipy.stats._distn_infrastructure.rv_frozen object at 0x00000230C0704B38>, 'bootstrap': [True, False]},\n",
       "          pre_dispatch='2*n_jobs', random_state=None, refit=True,\n",
       "          return_train_score=True, scoring=None, verbose=0)"
      ]
     },
     "execution_count": 75,
     "metadata": {},
     "output_type": "execute_result"
    }
   ],
   "source": [
    "rfr_search.fit(X_train, Y_train)"
   ]
  },
  {
   "cell_type": "code",
   "execution_count": 139,
   "metadata": {
    "collapsed": true
   },
   "outputs": [],
   "source": [
    "def evaluate(model, X_train, X_test, Y_train, Y_test, plots=True):\n",
    "    print(\"Parameters of best model:\\n %s\" % model.get_params())\n",
    "    \n",
    "    if plots:\n",
    "        plotDf = pd.DataFrame({'y': Y_test, 'yhat': model.predict(X_test)})\n",
    "        sns.jointplot(x=\"yhat\", y=\"y\", data=plotDf)\n",
    "\n",
    "    r2_train = r2_score(Y_train, model.predict(X_train))\n",
    "    r2_test = r2_score(Y_test, model.predict(X_test))\n",
    "    print(\"\\nR-square train: %f\" % r2_train)\n",
    "    print(\"R-square test: %f\" % r2_test)\n",
    "    \n",
    "    if type(model) == RandomForestRegressor:\n",
    "        print(\"\\n\")\n",
    "        print(pd.DataFrame({'features': X_train.columns, 'importances': model.feature_importances_}). \\\n",
    "        sort_values('importances', ascending=False))\n",
    "    \n",
    "    return None"
   ]
  },
  {
   "cell_type": "code",
   "execution_count": 130,
   "metadata": {},
   "outputs": [
    {
     "name": "stdout",
     "output_type": "stream",
     "text": [
      "Parameters of best model:\n",
      " {'bootstrap': True, 'criterion': 'mse', 'max_depth': None, 'max_features': 'auto', 'max_leaf_nodes': None, 'min_impurity_split': 1e-07, 'min_samples_leaf': 8, 'min_samples_split': 6, 'min_weight_fraction_leaf': 0.0, 'n_estimators': 40, 'n_jobs': 1, 'oob_score': False, 'random_state': None, 'verbose': 0, 'warm_start': False}\n",
      "\n",
      "R-square train: 0.342005\n",
      "R-square test: 0.369143\n",
      "\n",
      "\n",
      "     features  importances\n",
      "0  rsvp_limit          1.0\n"
     ]
    },
    {
     "data": {
      "image/png": "[encoded data removed]",
      "text/plain": [
       "<matplotlib.figure.Figure at 0x230c0b29c18>"
      ]
     },
     "metadata": {},
     "output_type": "display_data"
    }
   ],
   "source": [
    "evaluate(rfr_search.best_estimator_)"
   ]
  },
  {
   "cell_type": "code",
   "execution_count": null,
   "metadata": {
    "collapsed": true
   },
   "outputs": [],
   "source": []
  },
  {
   "cell_type": "code",
   "execution_count": 56,
   "metadata": {},
   "outputs": [
    {
     "name": "stdout",
     "output_type": "stream",
     "text": [
      "Mean crossval train score of best model 0.237323\n",
      "Mean crossval test score of best model 0.219570\n"
     ]
    }
   ],
   "source": [
    "best_model_idx = svr_search.cv_results_['rank_test_score'].argmin()\n",
    "print(\"Mean crossval train score of best model %f\" % svr_search.cv_results_['mean_train_score'][best_model_idx])\n",
    "print(\"Mean crossval test score of best model %f\" % svr_search.cv_results_['mean_test_score'][best_model_idx])"
   ]
  },
  {
   "cell_type": "code",
   "execution_count": 57,
   "metadata": {},
   "outputs": [
    {
     "name": "stdout",
     "output_type": "stream",
     "text": [
      "Parameters of best model:\n",
      " {'C': 8.8448116197623108, 'cache_size': 200, 'coef0': 0.0, 'degree': 3, 'epsilon': 0.1, 'gamma': 0.60983073304909063, 'kernel': 'rbf', 'max_iter': -1, 'shrinking': True, 'tol': 0.001, 'verbose': False}\n",
      "\n",
      "R-square train: 0.244788\n",
      "R-square test: 0.256405\n"
     ]
    },
    {
     "data": {
      "image/png": "[encoded data removed]",
      "text/plain": [
       "<matplotlib.figure.Figure at 0x230c08a2240>"
      ]
     },
     "metadata": {},
     "output_type": "display_data"
    }
   ],
   "source": [
    "evaluate(svr_search.best_estimator_)\n"
   ]
  },
  {
   "cell_type": "code",
   "execution_count": 140,
   "metadata": {
    "collapsed": true
   },
   "outputs": [],
   "source": [
    "def train_and_evaluate(selected_data, plots=False):\n",
    "    X = selected_data.drop('rsvp_yes', axis=1)\n",
    "    Y = selected_data['rsvp_yes']\n",
    "    X_train, X_test, Y_train, Y_test = train_test_split(X, Y, train_size = 0.75)\n",
    "    print(\"%i records in the training set\" % Y_train.count())\n",
    "    print(\"%i records in the testing set\" % Y_test.count())\n",
    "\n",
    "    rfr_search.fit(X_train, Y_train)\n",
    "    evaluate(rfr_search.best_estimator_, X_train, X_test, Y_train, Y_test, plots=plots)\n",
    "    \n",
    "    return None"
   ]
  },
  {
   "cell_type": "markdown",
   "metadata": {},
   "source": [
    "----"
   ]
  },
  {
   "cell_type": "markdown",
   "metadata": {},
   "source": [
    "## Feature engineering"
   ]
  },
  {
   "cell_type": "markdown",
   "metadata": {},
   "source": [
    "#### Inspect remaining datasets"
   ]
  },
  {
   "cell_type": "code",
   "execution_count": 90,
   "metadata": {},
   "outputs": [
    {
     "data": {
      "text/html": [
       "<div>\n",
       "<style>\n",
       "    .dataframe thead tr:only-child th {\n",
       "        text-align: right;\n",
       "    }\n",
       "\n",
       "    .dataframe thead th {\n",
       "        text-align: left;\n",
       "    }\n",
       "\n",
       "    .dataframe tbody tr th {\n",
       "        vertical-align: top;\n",
       "    }\n",
       "</style>\n",
       "<table border=\"1\" class=\"dataframe\">\n",
       "  <thead>\n",
       "    <tr style=\"text-align: right;\">\n",
       "      <th></th>\n",
       "      <th>city</th>\n",
       "      <th>country</th>\n",
       "      <th>hometown</th>\n",
       "      <th>memberships</th>\n",
       "      <th>user_id</th>\n",
       "    </tr>\n",
       "  </thead>\n",
       "  <tbody>\n",
       "    <tr>\n",
       "      <th>0</th>\n",
       "      <td>London</td>\n",
       "      <td>gb</td>\n",
       "      <td>None</td>\n",
       "      <td>[{'joined': 1401194987000, 'group_id': 'online...</td>\n",
       "      <td>45734</td>\n",
       "    </tr>\n",
       "    <tr>\n",
       "      <th>1</th>\n",
       "      <td>London</td>\n",
       "      <td>gb</td>\n",
       "      <td>None</td>\n",
       "      <td>[{'joined': 1400505160000, 'group_id': 'online...</td>\n",
       "      <td>66261</td>\n",
       "    </tr>\n",
       "  </tbody>\n",
       "</table>\n",
       "</div>"
      ],
      "text/plain": [
       "     city country hometown                                        memberships  \\\n",
       "0  London      gb     None  [{'joined': 1401194987000, 'group_id': 'online...   \n",
       "1  London      gb     None  [{'joined': 1400505160000, 'group_id': 'online...   \n",
       "\n",
       "   user_id  \n",
       "0    45734  \n",
       "1    66261  "
      ]
     },
     "execution_count": 90,
     "metadata": {},
     "output_type": "execute_result"
    }
   ],
   "source": [
    "users[0:2]"
   ]
  },
  {
   "cell_type": "code",
   "execution_count": 60,
   "metadata": {},
   "outputs": [
    {
     "data": {
      "text/html": [
       "<div>\n",
       "<style>\n",
       "    .dataframe thead tr:only-child th {\n",
       "        text-align: right;\n",
       "    }\n",
       "\n",
       "    .dataframe thead th {\n",
       "        text-align: left;\n",
       "    }\n",
       "\n",
       "    .dataframe tbody tr th {\n",
       "        vertical-align: top;\n",
       "    }\n",
       "</style>\n",
       "<table border=\"1\" class=\"dataframe\">\n",
       "  <thead>\n",
       "    <tr style=\"text-align: right;\">\n",
       "      <th></th>\n",
       "      <th>city</th>\n",
       "      <th>created</th>\n",
       "      <th>description</th>\n",
       "      <th>group_id</th>\n",
       "      <th>lat</th>\n",
       "      <th>link</th>\n",
       "      <th>lon</th>\n",
       "      <th>name</th>\n",
       "      <th>topics</th>\n",
       "    </tr>\n",
       "  </thead>\n",
       "  <tbody>\n",
       "    <tr>\n",
       "      <th>0</th>\n",
       "      <td>Den Haag</td>\n",
       "      <td>1386377741000</td>\n",
       "      <td>&lt;p&gt;This group is focused on software architect...</td>\n",
       "      <td>Software-Architecture-and-Project-Design-The-H...</td>\n",
       "      <td>52.080002</td>\n",
       "      <td>http://www.meetup.com/Software-Architecture-an...</td>\n",
       "      <td>4.28</td>\n",
       "      <td>Software Architecture and Project Design The H...</td>\n",
       "      <td>[WCF, Project Planning, Leadership, Software E...</td>\n",
       "    </tr>\n",
       "    <tr>\n",
       "      <th>1</th>\n",
       "      <td>Amsterdam</td>\n",
       "      <td>1352707128000</td>\n",
       "      <td>&lt;p&gt;FP AMS aims to bring together commercial us...</td>\n",
       "      <td>fp-ams</td>\n",
       "      <td>52.369999</td>\n",
       "      <td>http://www.meetup.com/fp-ams/</td>\n",
       "      <td>4.89</td>\n",
       "      <td>FP AMS</td>\n",
       "      <td>[Scala Play Framework, Functional Programming,...</td>\n",
       "    </tr>\n",
       "  </tbody>\n",
       "</table>\n",
       "</div>"
      ],
      "text/plain": [
       "        city        created  \\\n",
       "0   Den Haag  1386377741000   \n",
       "1  Amsterdam  1352707128000   \n",
       "\n",
       "                                         description  \\\n",
       "0  <p>This group is focused on software architect...   \n",
       "1  <p>FP AMS aims to bring together commercial us...   \n",
       "\n",
       "                                            group_id        lat  \\\n",
       "0  Software-Architecture-and-Project-Design-The-H...  52.080002   \n",
       "1                                             fp-ams  52.369999   \n",
       "\n",
       "                                                link   lon  \\\n",
       "0  http://www.meetup.com/Software-Architecture-an...  4.28   \n",
       "1                      http://www.meetup.com/fp-ams/  4.89   \n",
       "\n",
       "                                                name  \\\n",
       "0  Software Architecture and Project Design The H...   \n",
       "1                                             FP AMS   \n",
       "\n",
       "                                              topics  \n",
       "0  [WCF, Project Planning, Leadership, Software E...  \n",
       "1  [Scala Play Framework, Functional Programming,...  "
      ]
     },
     "execution_count": 60,
     "metadata": {},
     "output_type": "execute_result"
    }
   ],
   "source": [
    "groups[0:2]"
   ]
  },
  {
   "cell_type": "code",
   "execution_count": 62,
   "metadata": {},
   "outputs": [
    {
     "data": {
      "text/html": [
       "<div>\n",
       "<style>\n",
       "    .dataframe thead tr:only-child th {\n",
       "        text-align: right;\n",
       "    }\n",
       "\n",
       "    .dataframe thead th {\n",
       "        text-align: left;\n",
       "    }\n",
       "\n",
       "    .dataframe tbody tr th {\n",
       "        vertical-align: top;\n",
       "    }\n",
       "</style>\n",
       "<table border=\"1\" class=\"dataframe\">\n",
       "  <thead>\n",
       "    <tr style=\"text-align: right;\">\n",
       "      <th></th>\n",
       "      <th>city</th>\n",
       "      <th>country</th>\n",
       "      <th>lat</th>\n",
       "      <th>lon</th>\n",
       "      <th>name</th>\n",
       "      <th>venue_id</th>\n",
       "    </tr>\n",
       "  </thead>\n",
       "  <tbody>\n",
       "    <tr>\n",
       "      <th>0</th>\n",
       "      <td>Groningen</td>\n",
       "      <td>nl</td>\n",
       "      <td>53.214241</td>\n",
       "      <td>6.569170</td>\n",
       "      <td>FabLab / Launchcafé</td>\n",
       "      <td>67082</td>\n",
       "    </tr>\n",
       "    <tr>\n",
       "      <th>1</th>\n",
       "      <td>London</td>\n",
       "      <td>gb</td>\n",
       "      <td>51.520836</td>\n",
       "      <td>-0.090599</td>\n",
       "      <td>The Brewery</td>\n",
       "      <td>67083</td>\n",
       "    </tr>\n",
       "  </tbody>\n",
       "</table>\n",
       "</div>"
      ],
      "text/plain": [
       "        city country        lat       lon                 name  venue_id\n",
       "0  Groningen      nl  53.214241  6.569170  FabLab / Launchcafé     67082\n",
       "1     London      gb  51.520836 -0.090599          The Brewery     67083"
      ]
     },
     "execution_count": 62,
     "metadata": {},
     "output_type": "execute_result"
    }
   ],
   "source": [
    "venues[0:2]"
   ]
  },
  {
   "cell_type": "code",
   "execution_count": 99,
   "metadata": {},
   "outputs": [
    {
     "data": {
      "text/html": [
       "<div>\n",
       "<style>\n",
       "    .dataframe thead tr:only-child th {\n",
       "        text-align: right;\n",
       "    }\n",
       "\n",
       "    .dataframe thead th {\n",
       "        text-align: left;\n",
       "    }\n",
       "\n",
       "    .dataframe tbody tr th {\n",
       "        vertical-align: top;\n",
       "    }\n",
       "</style>\n",
       "<table border=\"1\" class=\"dataframe\">\n",
       "  <thead>\n",
       "    <tr style=\"text-align: right;\">\n",
       "      <th></th>\n",
       "      <th>created</th>\n",
       "      <th>description</th>\n",
       "      <th>duration</th>\n",
       "      <th>group_id</th>\n",
       "      <th>name</th>\n",
       "      <th>rsvp_limit</th>\n",
       "      <th>rsvps</th>\n",
       "      <th>status</th>\n",
       "      <th>time</th>\n",
       "      <th>venue_id</th>\n",
       "      <th>rsvp_yes</th>\n",
       "    </tr>\n",
       "  </thead>\n",
       "  <tbody>\n",
       "    <tr>\n",
       "      <th>0</th>\n",
       "      <td>1309088803000</td>\n",
       "      <td>&lt;p&gt;&lt;img src=\"http://photos2.meetupstatic.com/p...</td>\n",
       "      <td>NaN</td>\n",
       "      <td>INTERNATIONALS-in-Rotterdam</td>\n",
       "      <td>INTERNATIONALS meet INTERNATIONALS- Midsummer ...</td>\n",
       "      <td>NaN</td>\n",
       "      <td>[{'guests': 0, 'when': 1309881442000, 'respons...</td>\n",
       "      <td>past</td>\n",
       "      <td>1.310056e+12</td>\n",
       "      <td>68572</td>\n",
       "      <td>45</td>\n",
       "    </tr>\n",
       "    <tr>\n",
       "      <th>1</th>\n",
       "      <td>1439890905000</td>\n",
       "      <td>&lt;p&gt;'s Avonds je laptop openklappen om iets leu...</td>\n",
       "      <td>NaN</td>\n",
       "      <td>codecave</td>\n",
       "      <td>Let's code some fun stuff!</td>\n",
       "      <td>12.0</td>\n",
       "      <td>[{'guests': 0, 'when': 1439922626000, 'respons...</td>\n",
       "      <td>upcoming</td>\n",
       "      <td>1.448476e+12</td>\n",
       "      <td>67856</td>\n",
       "      <td>3</td>\n",
       "    </tr>\n",
       "  </tbody>\n",
       "</table>\n",
       "</div>"
      ],
      "text/plain": [
       "         created                                        description  duration  \\\n",
       "0  1309088803000  <p><img src=\"http://photos2.meetupstatic.com/p...       NaN   \n",
       "1  1439890905000  <p>'s Avonds je laptop openklappen om iets leu...       NaN   \n",
       "\n",
       "                      group_id  \\\n",
       "0  INTERNATIONALS-in-Rotterdam   \n",
       "1                     codecave   \n",
       "\n",
       "                                                name  rsvp_limit  \\\n",
       "0  INTERNATIONALS meet INTERNATIONALS- Midsummer ...         NaN   \n",
       "1                         Let's code some fun stuff!        12.0   \n",
       "\n",
       "                                               rsvps    status          time  \\\n",
       "0  [{'guests': 0, 'when': 1309881442000, 'respons...      past  1.310056e+12   \n",
       "1  [{'guests': 0, 'when': 1439922626000, 'respons...  upcoming  1.448476e+12   \n",
       "\n",
       "   venue_id  rsvp_yes  \n",
       "0     68572        45  \n",
       "1     67856         3  "
      ]
     },
     "execution_count": 99,
     "metadata": {},
     "output_type": "execute_result"
    }
   ],
   "source": [
    "events[0:2]"
   ]
  },
  {
   "cell_type": "code",
   "execution_count": 131,
   "metadata": {},
   "outputs": [
    {
     "name": "stdout",
     "output_type": "stream",
     "text": [
      "4221 records in the training set\n",
      "1407 records in the testing set\n",
      "Parameters of best model:\n",
      " {'bootstrap': True, 'criterion': 'mse', 'max_depth': None, 'max_features': 'auto', 'max_leaf_nodes': None, 'min_impurity_split': 1e-07, 'min_samples_leaf': 2, 'min_samples_split': 8, 'min_weight_fraction_leaf': 0.0, 'n_estimators': 51, 'n_jobs': 1, 'oob_score': False, 'random_state': None, 'verbose': 0, 'warm_start': False}\n",
      "\n",
      "R-square train: 0.346180\n",
      "R-square test: 0.379048\n",
      "\n",
      "\n",
      "     features  importances\n",
      "0  rsvp_limit          1.0\n"
     ]
    }
   ],
   "source": [
    "train_and_evaluate(selected_data)"
   ]
  },
  {
   "cell_type": "code",
   "execution_count": 146,
   "metadata": {},
   "outputs": [
    {
     "data": {
      "text/plain": [
       "0    [{'joined': 1401194987000, 'group_id': 'online...\n",
       "1    [{'joined': 1400505160000, 'group_id': 'online...\n",
       "Name: memberships, dtype: object"
      ]
     },
     "execution_count": 146,
     "metadata": {},
     "output_type": "execute_result"
    }
   ],
   "source": [
    "users[0:2].memberships[0:2]"
   ]
  },
  {
   "cell_type": "markdown",
   "metadata": {},
   "source": [
    "To parse the users' group membership data we will create numpy arrays to be stacked together to form new columns"
   ]
  },
  {
   "cell_type": "code",
   "execution_count": 167,
   "metadata": {},
   "outputs": [],
   "source": [
    "memb_joined = users.memberships.apply(lambda membs: [m['joined'] for m in membs]).values\n",
    "memb_group_id = users.memberships.apply(lambda membs: [m['group_id'] for m in membs]).values\n",
    "memb_user = users.apply(lambda row: [row.user_id for m in row.memberships], axis=1).values\n",
    "memberships = pd.DataFrame({'user_id':list(itertools.chain.from_iterable(memb_user)),\n",
    "                           'joined':list(itertools.chain.from_iterable(memb_joined)),\n",
    "                           'group_id':list(itertools.chain.from_iterable(memb_group_id))})"
   ]
  },
  {
   "cell_type": "code",
   "execution_count": 170,
   "metadata": {},
   "outputs": [
    {
     "data": {
      "text/html": [
       "<div>\n",
       "<style>\n",
       "    .dataframe thead tr:only-child th {\n",
       "        text-align: right;\n",
       "    }\n",
       "\n",
       "    .dataframe thead th {\n",
       "        text-align: left;\n",
       "    }\n",
       "\n",
       "    .dataframe tbody tr th {\n",
       "        vertical-align: top;\n",
       "    }\n",
       "</style>\n",
       "<table border=\"1\" class=\"dataframe\">\n",
       "  <thead>\n",
       "    <tr style=\"text-align: right;\">\n",
       "      <th></th>\n",
       "      <th>group_id</th>\n",
       "      <th>joined</th>\n",
       "      <th>user_id</th>\n",
       "    </tr>\n",
       "  </thead>\n",
       "  <tbody>\n",
       "    <tr>\n",
       "      <th>0</th>\n",
       "      <td>onlineoptimizers</td>\n",
       "      <td>1401194987000</td>\n",
       "      <td>45734</td>\n",
       "    </tr>\n",
       "    <tr>\n",
       "      <th>1</th>\n",
       "      <td>onlineoptimizers</td>\n",
       "      <td>1400505160000</td>\n",
       "      <td>66261</td>\n",
       "    </tr>\n",
       "  </tbody>\n",
       "</table>\n",
       "</div>"
      ],
      "text/plain": [
       "           group_id         joined  user_id\n",
       "0  onlineoptimizers  1401194987000    45734\n",
       "1  onlineoptimizers  1400505160000    66261"
      ]
     },
     "execution_count": 170,
     "metadata": {},
     "output_type": "execute_result"
    }
   ],
   "source": [
    "memberships[0:2]"
   ]
  },
  {
   "cell_type": "code",
   "execution_count": 325,
   "metadata": {},
   "outputs": [
    {
     "data": {
      "text/plain": [
       "group_id\n",
       "Appsterdam                           3516\n",
       "Hackers-and-Founders-Amsterdam-NL    3125\n",
       "ocamsterdam                          2887\n",
       "PermanentBeta                        2528\n",
       "sensemakersams                       2146\n",
       "INTERNATIONALS-in-Rotterdam          2042\n",
       "mangrove                             1940\n",
       "SMC050                               1728\n",
       "OpenCoffeeDenHaag                    1606\n",
       "StartupWeekendAmsterdam              1525\n",
       "Name: user_id, dtype: int64"
      ]
     },
     "execution_count": 325,
     "metadata": {},
     "output_type": "execute_result"
    }
   ],
   "source": [
    "memberships_per_group = memberships.groupby('group_id')['user_id'].count().sort_values(ascending=False)\n",
    "memberships_per_group[0:10]"
   ]
  },
  {
   "cell_type": "markdown",
   "metadata": {},
   "source": [
    "Now we have the group memberships they must be applied per meetup rather than by group to ensure members are only counted as prior members of a group as at the time of the meetup."
   ]
  },
  {
   "cell_type": "code",
   "execution_count": 196,
   "metadata": {},
   "outputs": [
    {
     "data": {
      "text/html": [
       "<div>\n",
       "<style>\n",
       "    .dataframe thead tr:only-child th {\n",
       "        text-align: right;\n",
       "    }\n",
       "\n",
       "    .dataframe thead th {\n",
       "        text-align: left;\n",
       "    }\n",
       "\n",
       "    .dataframe tbody tr th {\n",
       "        vertical-align: top;\n",
       "    }\n",
       "</style>\n",
       "<table border=\"1\" class=\"dataframe\">\n",
       "  <thead>\n",
       "    <tr style=\"text-align: right;\">\n",
       "      <th></th>\n",
       "      <th>event_id</th>\n",
       "      <th>group_id</th>\n",
       "      <th>created</th>\n",
       "      <th>joined</th>\n",
       "      <th>user_id</th>\n",
       "    </tr>\n",
       "  </thead>\n",
       "  <tbody>\n",
       "    <tr>\n",
       "      <th>0</th>\n",
       "      <td>0</td>\n",
       "      <td>INTERNATIONALS-in-Rotterdam</td>\n",
       "      <td>1309088803000</td>\n",
       "      <td>1314890908000</td>\n",
       "      <td>40788</td>\n",
       "    </tr>\n",
       "    <tr>\n",
       "      <th>1</th>\n",
       "      <td>0</td>\n",
       "      <td>INTERNATIONALS-in-Rotterdam</td>\n",
       "      <td>1309088803000</td>\n",
       "      <td>1397202355000</td>\n",
       "      <td>20344</td>\n",
       "    </tr>\n",
       "    <tr>\n",
       "      <th>2</th>\n",
       "      <td>0</td>\n",
       "      <td>INTERNATIONALS-in-Rotterdam</td>\n",
       "      <td>1309088803000</td>\n",
       "      <td>1263579736000</td>\n",
       "      <td>42459</td>\n",
       "    </tr>\n",
       "  </tbody>\n",
       "</table>\n",
       "</div>"
      ],
      "text/plain": [
       "   event_id                     group_id        created         joined  \\\n",
       "0         0  INTERNATIONALS-in-Rotterdam  1309088803000  1314890908000   \n",
       "1         0  INTERNATIONALS-in-Rotterdam  1309088803000  1397202355000   \n",
       "2         0  INTERNATIONALS-in-Rotterdam  1309088803000  1263579736000   \n",
       "\n",
       "   user_id  \n",
       "0    40788  \n",
       "1    20344  \n",
       "2    42459  "
      ]
     },
     "execution_count": 196,
     "metadata": {},
     "output_type": "execute_result"
    }
   ],
   "source": [
    "events['event_id'] = events.index\n",
    "events_with_users = events[['event_id','group_id','created']].merge(memberships)\n",
    "events_with_users[events_with_users.created > events_with_users.joined]\n",
    "events_with_users[0:3]"
   ]
  },
  {
   "cell_type": "code",
   "execution_count": 199,
   "metadata": {},
   "outputs": [],
   "source": [
    "group_member_count = events_with_users.groupby('event_id')['group_id'].count()"
   ]
  },
  {
   "cell_type": "code",
   "execution_count": 202,
   "metadata": {},
   "outputs": [
    {
     "data": {
      "text/html": [
       "<div>\n",
       "<style>\n",
       "    .dataframe thead tr:only-child th {\n",
       "        text-align: right;\n",
       "    }\n",
       "\n",
       "    .dataframe thead th {\n",
       "        text-align: left;\n",
       "    }\n",
       "\n",
       "    .dataframe tbody tr th {\n",
       "        vertical-align: top;\n",
       "    }\n",
       "</style>\n",
       "<table border=\"1\" class=\"dataframe\">\n",
       "  <thead>\n",
       "    <tr style=\"text-align: right;\">\n",
       "      <th></th>\n",
       "      <th>created</th>\n",
       "      <th>description</th>\n",
       "      <th>duration</th>\n",
       "      <th>group_id</th>\n",
       "      <th>name</th>\n",
       "      <th>rsvp_limit</th>\n",
       "      <th>rsvps</th>\n",
       "      <th>status</th>\n",
       "      <th>time</th>\n",
       "      <th>venue_id</th>\n",
       "      <th>rsvp_yes</th>\n",
       "      <th>timeFromCreationToEvent</th>\n",
       "      <th>event_id</th>\n",
       "      <th>group_member_count</th>\n",
       "    </tr>\n",
       "  </thead>\n",
       "  <tbody>\n",
       "    <tr>\n",
       "      <th>0</th>\n",
       "      <td>1309088803000</td>\n",
       "      <td>&lt;p&gt;&lt;img src=\"http://photos2.meetupstatic.com/p...</td>\n",
       "      <td>NaN</td>\n",
       "      <td>INTERNATIONALS-in-Rotterdam</td>\n",
       "      <td>INTERNATIONALS meet INTERNATIONALS- Midsummer ...</td>\n",
       "      <td>NaN</td>\n",
       "      <td>[{'guests': 0, 'when': 1309881442000, 'respons...</td>\n",
       "      <td>past</td>\n",
       "      <td>1.310056e+12</td>\n",
       "      <td>68572</td>\n",
       "      <td>45</td>\n",
       "      <td>9.673970e+08</td>\n",
       "      <td>0</td>\n",
       "      <td>2042</td>\n",
       "    </tr>\n",
       "    <tr>\n",
       "      <th>1</th>\n",
       "      <td>1439890905000</td>\n",
       "      <td>&lt;p&gt;'s Avonds je laptop openklappen om iets leu...</td>\n",
       "      <td>NaN</td>\n",
       "      <td>codecave</td>\n",
       "      <td>Let's code some fun stuff!</td>\n",
       "      <td>12.0</td>\n",
       "      <td>[{'guests': 0, 'when': 1439922626000, 'respons...</td>\n",
       "      <td>upcoming</td>\n",
       "      <td>1.448476e+12</td>\n",
       "      <td>67856</td>\n",
       "      <td>3</td>\n",
       "      <td>8.585295e+09</td>\n",
       "      <td>1</td>\n",
       "      <td>97</td>\n",
       "    </tr>\n",
       "  </tbody>\n",
       "</table>\n",
       "</div>"
      ],
      "text/plain": [
       "         created                                        description  duration  \\\n",
       "0  1309088803000  <p><img src=\"http://photos2.meetupstatic.com/p...       NaN   \n",
       "1  1439890905000  <p>'s Avonds je laptop openklappen om iets leu...       NaN   \n",
       "\n",
       "                      group_id  \\\n",
       "0  INTERNATIONALS-in-Rotterdam   \n",
       "1                     codecave   \n",
       "\n",
       "                                                name  rsvp_limit  \\\n",
       "0  INTERNATIONALS meet INTERNATIONALS- Midsummer ...         NaN   \n",
       "1                         Let's code some fun stuff!        12.0   \n",
       "\n",
       "                                               rsvps    status          time  \\\n",
       "0  [{'guests': 0, 'when': 1309881442000, 'respons...      past  1.310056e+12   \n",
       "1  [{'guests': 0, 'when': 1439922626000, 'respons...  upcoming  1.448476e+12   \n",
       "\n",
       "   venue_id  rsvp_yes  timeFromCreationToEvent  event_id  group_member_count  \n",
       "0     68572        45             9.673970e+08         0                2042  \n",
       "1     67856         3             8.585295e+09         1                  97  "
      ]
     },
     "execution_count": 202,
     "metadata": {},
     "output_type": "execute_result"
    }
   ],
   "source": [
    "events['group_member_count'] = group_member_count\n",
    "events[0:2]"
   ]
  },
  {
   "cell_type": "code",
   "execution_count": null,
   "metadata": {
    "collapsed": true
   },
   "outputs": [],
   "source": [
    "events['timeFromCreationToEvent'] = events.time - events.created"
   ]
  },
  {
   "cell_type": "code",
   "execution_count": 269,
   "metadata": {},
   "outputs": [],
   "source": [
    "events['topics'] = events.merge(groups, on='group_id').sort_values('event_id').reset_index().topics"
   ]
  },
  {
   "cell_type": "code",
   "execution_count": 248,
   "metadata": {},
   "outputs": [],
   "source": [
    "vecSize = 5\n",
    "w2vModel = Word2Vec(topics, size=vecSize, min_count=1)"
   ]
  },
  {
   "cell_type": "code",
   "execution_count": 229,
   "metadata": {},
   "outputs": [
    {
     "data": {
      "text/plain": [
       "['Expat', 'Social Networking', 'Rotterdam', 'Happy Hour', 'The Netherlands']"
      ]
     },
     "execution_count": 229,
     "metadata": {},
     "output_type": "execute_result"
    }
   ],
   "source": [
    "topics[0]"
   ]
  },
  {
   "cell_type": "code",
   "execution_count": 231,
   "metadata": {},
   "outputs": [
    {
     "data": {
      "text/plain": [
       "array([ 2.06295466,  0.32589751, -0.75574696, -0.66395116,  0.61264056], dtype=float32)"
      ]
     },
     "execution_count": 231,
     "metadata": {},
     "output_type": "execute_result"
    }
   ],
   "source": [
    "w2vModel.wv['Expat']"
   ]
  },
  {
   "cell_type": "code",
   "execution_count": 236,
   "metadata": {},
   "outputs": [
    {
     "data": {
      "text/plain": [
       "array([ 0.31635889, -0.27540594,  0.35037476,  0.27475524,  0.36139756], dtype=float32)"
      ]
     },
     "execution_count": 236,
     "metadata": {},
     "output_type": "execute_result"
    }
   ],
   "source": [
    "[w2vModel.wv[topic] for topic in topics[0:1]][0].mean(axis=1)"
   ]
  },
  {
   "cell_type": "code",
   "execution_count": 256,
   "metadata": {},
   "outputs": [],
   "source": [
    "def vectorise_topics(group_topics):\n",
    "    wvecs = []\n",
    "    for topic in group_topics:\n",
    "        try:\n",
    "            wvecs.append(w2vModel.wv[topic])\n",
    "        except:\n",
    "            None\n",
    "    result = np.vstack(wvecs).mean(axis=0) if len(wvecs)>0 else np.zeros(vecSize)\n",
    "    return result  "
   ]
  },
  {
   "cell_type": "code",
   "execution_count": 270,
   "metadata": {},
   "outputs": [
    {
     "data": {
      "text/plain": [
       "array([ 2.74166942,  0.1116029 , -1.4034183 , -0.99424762,  0.8813138 ], dtype=float32)"
      ]
     },
     "execution_count": 270,
     "metadata": {},
     "output_type": "execute_result"
    }
   ],
   "source": [
    "vectorise_topics(['Expat', 'Social Networking', 'Rotterdam', 'Happy Hour', 'The Netherlands', 'Not a real topic'])    "
   ]
  },
  {
   "cell_type": "code",
   "execution_count": 285,
   "metadata": {},
   "outputs": [],
   "source": [
    "def vectorise_topics_vectorised(events):\n",
    "    vectorised_topics = np.vstack(events.topics.apply(lambda x: vectorise_topics(x)))\n",
    "    for idx in range(vectorised_topics.shape[1]):\n",
    "        events['topicvec_' + str(idx)] = vectorised_topics[:,idx]\n",
    "    return events\n",
    "        \n",
    "events = vectorise_topics_vectorised(events)"
   ]
  },
  {
   "cell_type": "code",
   "execution_count": 286,
   "metadata": {},
   "outputs": [
    {
     "data": {
      "text/html": [
       "<div>\n",
       "<style>\n",
       "    .dataframe thead tr:only-child th {\n",
       "        text-align: right;\n",
       "    }\n",
       "\n",
       "    .dataframe thead th {\n",
       "        text-align: left;\n",
       "    }\n",
       "\n",
       "    .dataframe tbody tr th {\n",
       "        vertical-align: top;\n",
       "    }\n",
       "</style>\n",
       "<table border=\"1\" class=\"dataframe\">\n",
       "  <thead>\n",
       "    <tr style=\"text-align: right;\">\n",
       "      <th></th>\n",
       "      <th>created</th>\n",
       "      <th>description</th>\n",
       "      <th>duration</th>\n",
       "      <th>group_id</th>\n",
       "      <th>name</th>\n",
       "      <th>rsvp_limit</th>\n",
       "      <th>rsvps</th>\n",
       "      <th>status</th>\n",
       "      <th>time</th>\n",
       "      <th>venue_id</th>\n",
       "      <th>rsvp_yes</th>\n",
       "      <th>timeFromCreationToEvent</th>\n",
       "      <th>event_id</th>\n",
       "      <th>group_member_count</th>\n",
       "      <th>topics</th>\n",
       "      <th>topicvec_0</th>\n",
       "      <th>topicvec_1</th>\n",
       "      <th>topicvec_2</th>\n",
       "      <th>topicvec_3</th>\n",
       "      <th>topicvec_4</th>\n",
       "    </tr>\n",
       "  </thead>\n",
       "  <tbody>\n",
       "    <tr>\n",
       "      <th>0</th>\n",
       "      <td>1309088803000</td>\n",
       "      <td>&lt;p&gt;&lt;img src=\"http://photos2.meetupstatic.com/p...</td>\n",
       "      <td>NaN</td>\n",
       "      <td>INTERNATIONALS-in-Rotterdam</td>\n",
       "      <td>INTERNATIONALS meet INTERNATIONALS- Midsummer ...</td>\n",
       "      <td>NaN</td>\n",
       "      <td>[{'guests': 0, 'when': 1309881442000, 'respons...</td>\n",
       "      <td>past</td>\n",
       "      <td>1.310056e+12</td>\n",
       "      <td>68572</td>\n",
       "      <td>45</td>\n",
       "      <td>9.673970e+08</td>\n",
       "      <td>0</td>\n",
       "      <td>2042</td>\n",
       "      <td>[Expat, Social Networking, Rotterdam, Happy Ho...</td>\n",
       "      <td>2.741669</td>\n",
       "      <td>0.111603</td>\n",
       "      <td>-1.403418</td>\n",
       "      <td>-0.994248</td>\n",
       "      <td>0.881314</td>\n",
       "    </tr>\n",
       "    <tr>\n",
       "      <th>1</th>\n",
       "      <td>1439890905000</td>\n",
       "      <td>&lt;p&gt;'s Avonds je laptop openklappen om iets leu...</td>\n",
       "      <td>NaN</td>\n",
       "      <td>codecave</td>\n",
       "      <td>Let's code some fun stuff!</td>\n",
       "      <td>12.0</td>\n",
       "      <td>[{'guests': 0, 'when': 1439922626000, 'respons...</td>\n",
       "      <td>upcoming</td>\n",
       "      <td>1.448476e+12</td>\n",
       "      <td>67856</td>\n",
       "      <td>3</td>\n",
       "      <td>8.585295e+09</td>\n",
       "      <td>1</td>\n",
       "      <td>97</td>\n",
       "      <td>[Software Development, New Technology, Program...</td>\n",
       "      <td>0.650777</td>\n",
       "      <td>-1.855275</td>\n",
       "      <td>-2.058244</td>\n",
       "      <td>-1.637294</td>\n",
       "      <td>0.978977</td>\n",
       "    </tr>\n",
       "  </tbody>\n",
       "</table>\n",
       "</div>"
      ],
      "text/plain": [
       "         created                                        description  duration  \\\n",
       "0  1309088803000  <p><img src=\"http://photos2.meetupstatic.com/p...       NaN   \n",
       "1  1439890905000  <p>'s Avonds je laptop openklappen om iets leu...       NaN   \n",
       "\n",
       "                      group_id  \\\n",
       "0  INTERNATIONALS-in-Rotterdam   \n",
       "1                     codecave   \n",
       "\n",
       "                                                name  rsvp_limit  \\\n",
       "0  INTERNATIONALS meet INTERNATIONALS- Midsummer ...         NaN   \n",
       "1                         Let's code some fun stuff!        12.0   \n",
       "\n",
       "                                               rsvps    status          time  \\\n",
       "0  [{'guests': 0, 'when': 1309881442000, 'respons...      past  1.310056e+12   \n",
       "1  [{'guests': 0, 'when': 1439922626000, 'respons...  upcoming  1.448476e+12   \n",
       "\n",
       "   venue_id  rsvp_yes  timeFromCreationToEvent  event_id  group_member_count  \\\n",
       "0     68572        45             9.673970e+08         0                2042   \n",
       "1     67856         3             8.585295e+09         1                  97   \n",
       "\n",
       "                                              topics  topicvec_0  topicvec_1  \\\n",
       "0  [Expat, Social Networking, Rotterdam, Happy Ho...    2.741669    0.111603   \n",
       "1  [Software Development, New Technology, Program...    0.650777   -1.855275   \n",
       "\n",
       "   topicvec_2  topicvec_3  topicvec_4  \n",
       "0   -1.403418   -0.994248    0.881314  \n",
       "1   -2.058244   -1.637294    0.978977  "
      ]
     },
     "execution_count": 286,
     "metadata": {},
     "output_type": "execute_result"
    }
   ],
   "source": [
    "events[0:2]"
   ]
  },
  {
   "cell_type": "markdown",
   "metadata": {},
   "source": [
    "Create columns in event data from group topics"
   ]
  },
  {
   "cell_type": "code",
   "execution_count": null,
   "metadata": {
    "collapsed": true
   },
   "outputs": [],
   "source": []
  },
  {
   "cell_type": "code",
   "execution_count": 296,
   "metadata": {
    "scrolled": true
   },
   "outputs": [
    {
     "data": {
      "text/html": [
       "<div>\n",
       "<style>\n",
       "    .dataframe thead tr:only-child th {\n",
       "        text-align: right;\n",
       "    }\n",
       "\n",
       "    .dataframe thead th {\n",
       "        text-align: left;\n",
       "    }\n",
       "\n",
       "    .dataframe tbody tr th {\n",
       "        vertical-align: top;\n",
       "    }\n",
       "</style>\n",
       "<table border=\"1\" class=\"dataframe\">\n",
       "  <thead>\n",
       "    <tr style=\"text-align: right;\">\n",
       "      <th></th>\n",
       "      <th>rsvp_limit</th>\n",
       "      <th>duration</th>\n",
       "      <th>timeFromCreationToEvent</th>\n",
       "      <th>group_member_count</th>\n",
       "      <th>topics</th>\n",
       "      <th>rsvp_yes</th>\n",
       "    </tr>\n",
       "  </thead>\n",
       "  <tbody>\n",
       "    <tr>\n",
       "      <th>0</th>\n",
       "      <td>500.0</td>\n",
       "      <td>-1.0</td>\n",
       "      <td>9.673970e+08</td>\n",
       "      <td>2042</td>\n",
       "      <td>[Expat, Social Networking, Rotterdam, Happy Ho...</td>\n",
       "      <td>45</td>\n",
       "    </tr>\n",
       "    <tr>\n",
       "      <th>2</th>\n",
       "      <td>12.0</td>\n",
       "      <td>-1.0</td>\n",
       "      <td>1.388446e+09</td>\n",
       "      <td>423</td>\n",
       "      <td>[Historical Museum, Web Technology, Museum, Ne...</td>\n",
       "      <td>5</td>\n",
       "    </tr>\n",
       "    <tr>\n",
       "      <th>3</th>\n",
       "      <td>100.0</td>\n",
       "      <td>10800000.0</td>\n",
       "      <td>1.031852e+10</td>\n",
       "      <td>497</td>\n",
       "      <td>[Innovation, Product Development, Lean Startup...</td>\n",
       "      <td>79</td>\n",
       "    </tr>\n",
       "    <tr>\n",
       "      <th>4</th>\n",
       "      <td>500.0</td>\n",
       "      <td>-1.0</td>\n",
       "      <td>1.827191e+09</td>\n",
       "      <td>344</td>\n",
       "      <td>[gamification at work, Engagement Design, Ente...</td>\n",
       "      <td>17</td>\n",
       "    </tr>\n",
       "    <tr>\n",
       "      <th>5</th>\n",
       "      <td>500.0</td>\n",
       "      <td>16200000.0</td>\n",
       "      <td>5.799950e+08</td>\n",
       "      <td>28</td>\n",
       "      <td>[E Commerce, E-Commerce, Bio, Online Marketing...</td>\n",
       "      <td>3</td>\n",
       "    </tr>\n",
       "    <tr>\n",
       "      <th>6</th>\n",
       "      <td>70.0</td>\n",
       "      <td>10800000.0</td>\n",
       "      <td>1.402211e+09</td>\n",
       "      <td>813</td>\n",
       "      <td>[Multivariate Testing, Conversion Rate Optimiz...</td>\n",
       "      <td>67</td>\n",
       "    </tr>\n",
       "    <tr>\n",
       "      <th>7</th>\n",
       "      <td>500.0</td>\n",
       "      <td>-1.0</td>\n",
       "      <td>5.437650e+08</td>\n",
       "      <td>259</td>\n",
       "      <td>[Data Visualization, Computer Science, Mobile ...</td>\n",
       "      <td>2</td>\n",
       "    </tr>\n",
       "    <tr>\n",
       "      <th>8</th>\n",
       "      <td>500.0</td>\n",
       "      <td>-1.0</td>\n",
       "      <td>2.327766e+09</td>\n",
       "      <td>319</td>\n",
       "      <td>[Functional Programming, Entrepreneurship, Com...</td>\n",
       "      <td>13</td>\n",
       "    </tr>\n",
       "    <tr>\n",
       "      <th>9</th>\n",
       "      <td>20.0</td>\n",
       "      <td>7200000.0</td>\n",
       "      <td>4.513870e+08</td>\n",
       "      <td>3516</td>\n",
       "      <td>[Android Development, Mobile Development, Open...</td>\n",
       "      <td>9</td>\n",
       "    </tr>\n",
       "    <tr>\n",
       "      <th>10</th>\n",
       "      <td>12.0</td>\n",
       "      <td>7200000.0</td>\n",
       "      <td>8.147734e+09</td>\n",
       "      <td>282</td>\n",
       "      <td>[Agile Project Management, Startup Businesses,...</td>\n",
       "      <td>7</td>\n",
       "    </tr>\n",
       "  </tbody>\n",
       "</table>\n",
       "</div>"
      ],
      "text/plain": [
       "    rsvp_limit    duration  timeFromCreationToEvent  group_member_count  \\\n",
       "0        500.0        -1.0             9.673970e+08                2042   \n",
       "2         12.0        -1.0             1.388446e+09                 423   \n",
       "3        100.0  10800000.0             1.031852e+10                 497   \n",
       "4        500.0        -1.0             1.827191e+09                 344   \n",
       "5        500.0  16200000.0             5.799950e+08                  28   \n",
       "6         70.0  10800000.0             1.402211e+09                 813   \n",
       "7        500.0        -1.0             5.437650e+08                 259   \n",
       "8        500.0        -1.0             2.327766e+09                 319   \n",
       "9         20.0   7200000.0             4.513870e+08                3516   \n",
       "10        12.0   7200000.0             8.147734e+09                 282   \n",
       "\n",
       "                                               topics  rsvp_yes  \n",
       "0   [Expat, Social Networking, Rotterdam, Happy Ho...        45  \n",
       "2   [Historical Museum, Web Technology, Museum, Ne...         5  \n",
       "3   [Innovation, Product Development, Lean Startup...        79  \n",
       "4   [gamification at work, Engagement Design, Ente...        17  \n",
       "5   [E Commerce, E-Commerce, Bio, Online Marketing...         3  \n",
       "6   [Multivariate Testing, Conversion Rate Optimiz...        67  \n",
       "7   [Data Visualization, Computer Science, Mobile ...         2  \n",
       "8   [Functional Programming, Entrepreneurship, Com...        13  \n",
       "9   [Android Development, Mobile Development, Open...         9  \n",
       "10  [Agile Project Management, Startup Businesses,...         7  "
      ]
     },
     "execution_count": 296,
     "metadata": {},
     "output_type": "execute_result"
    }
   ],
   "source": [
    "#topic_columns = ['topicvec_' + str(i) for i in range(vecSize)]\n",
    "required_fields = ['rsvp_limit','duration','timeFromCreationToEvent','group_member_count', 'topics']\n",
    "selected_events = events[events.status == 'past'][required_fields + ['rsvp_yes']]\n",
    "selected_events['rsvp_limit'].fillna(selected_data.rsvp_limit.max(), inplace=True)\n",
    "selected_events['duration'].fillna(-1, inplace=True)\n",
    "selected_events[0:10]"
   ]
  },
  {
   "cell_type": "code",
   "execution_count": 293,
   "metadata": {},
   "outputs": [
    {
     "name": "stdout",
     "output_type": "stream",
     "text": [
      "4221 records in the training set\n",
      "1407 records in the testing set\n"
     ]
    },
    {
     "name": "stderr",
     "output_type": "stream",
     "text": [
      "C:\\Users\\user\\Anaconda3\\lib\\site-packages\\ipykernel_launcher.py:4: SettingWithCopyWarning: \n",
      "A value is trying to be set on a copy of a slice from a DataFrame.\n",
      "Try using .loc[row_indexer,col_indexer] = value instead\n",
      "\n",
      "See the caveats in the documentation: http://pandas.pydata.org/pandas-docs/stable/indexing.html#indexing-view-versus-copy\n",
      "  after removing the cwd from sys.path.\n"
     ]
    },
    {
     "name": "stdout",
     "output_type": "stream",
     "text": [
      "Parameters of best model:\n",
      " {'bootstrap': True, 'criterion': 'mse', 'max_depth': None, 'max_features': 'auto', 'max_leaf_nodes': None, 'min_impurity_split': 1e-07, 'min_samples_leaf': 2, 'min_samples_split': 4, 'min_weight_fraction_leaf': 0.0, 'n_estimators': 69, 'n_jobs': 1, 'oob_score': False, 'random_state': None, 'verbose': 0, 'warm_start': False}\n",
      "\n",
      "R-square train: 0.905040\n",
      "R-square test: 0.733345\n",
      "\n",
      "\n",
      "                  features  importances\n",
      "0               rsvp_limit     0.223231\n",
      "3       group_member_count     0.207181\n",
      "4               topicvec_0     0.163432\n",
      "2  timeFromCreationToEvent     0.125979\n",
      "6               topicvec_2     0.088332\n",
      "1                 duration     0.083939\n",
      "8               topicvec_4     0.039779\n",
      "7               topicvec_3     0.037135\n",
      "5               topicvec_1     0.030994\n"
     ]
    },
    {
     "data": {
      "image/png": "[encoded data removed]",
      "text/plain": [
       "<matplotlib.figure.Figure at 0x230c1023eb8>"
      ]
     },
     "metadata": {},
     "output_type": "display_data"
    }
   ],
   "source": [
    "X = selected_events.drop('rsvp_yes', axis=1)\n",
    "Y = selected_events['rsvp_yes']\n",
    "X_train, X_test, Y_train, Y_test = train_test_split(X, Y, train_size = 0.75)\n",
    "print(\"%i records in the training set\" % Y_train.count())\n",
    "print(\"%i records in the testing set\" % Y_test.count())\n",
    "\n",
    "w2vModel = Word2Vec(X_train.topics, size=vecSize, min_count=1)\n",
    "X_train = vectorise_topics_vectorised(X_train).drop('topics', axis=1)\n",
    "X_test = vectorise_topics_vectorised(X_test).drop('topics', axis=1)\n",
    "\n",
    "rfr_search.fit(X_train, Y_train)\n",
    "evaluate(rfr_search.best_estimator_, X_train, X_test, Y_train, Y_test, plots=True)"
   ]
  },
  {
   "cell_type": "markdown",
   "metadata": {},
   "source": [
    "There are still many potential features to explore, but won't due to time contraints. Some examples are:\n",
    "* More vectorised text fields - group description, event description\n",
    "* Features based on city name - e.g. number of groups and members in each city\n",
    "* Geographic features - e.g. distance from group to venue, distance of venue to centroid of other venues in the city\n",
    "* Features based on member hometown - the group count feature that we created could be modified to take into account how many of the members of the group live in the same city as the venue\n",
    "* Features derived from group home-page e.g. vectorised text of home page; search rank of page for a query based on group topics\n",
    "* Features based on group competition - is there another event at a similar time in a similar location with a similar topic vector?"
   ]
  },
  {
   "cell_type": "markdown",
   "metadata": {},
   "source": [
    "## Creating scorer"
   ]
  },
  {
   "cell_type": "code",
   "execution_count": 332,
   "metadata": {},
   "outputs": [
    {
     "data": {
      "text/plain": [
       "['rsvp_limit',\n",
       " 'duration',\n",
       " 'timeFromCreationToEvent',\n",
       " 'group_member_count',\n",
       " 'topicvec_0',\n",
       " 'topicvec_1',\n",
       " 'topicvec_2',\n",
       " 'topicvec_3',\n",
       " 'topicvec_4']"
      ]
     },
     "execution_count": 332,
     "metadata": {},
     "output_type": "execute_result"
    }
   ],
   "source": [
    "featureNames = list(X_train.columns.values)\n",
    "featureNames"
   ]
  },
  {
   "cell_type": "code",
   "execution_count": 337,
   "metadata": {},
   "outputs": [
    {
     "data": {
      "text/plain": [
       "{'created': 1309088803000,\n",
       " 'duration': None,\n",
       " 'group_id': 'INTERNATIONALS-in-Rotterdam',\n",
       " 'rsvp_limit': None,\n",
       " 'time': 1310056200000,\n",
       " 'topics': ['WCF',\n",
       "  'Project Planning',\n",
       "  'Leadership',\n",
       "  'Software Engineering',\n",
       "  'Enterprise Architecture',\n",
       "  'Software Development',\n",
       "  '.NET',\n",
       "  'IDesign Method',\n",
       "  'Windows Azure Platform',\n",
       "  'Software Architecture']}"
      ]
     },
     "execution_count": 337,
     "metadata": {},
     "output_type": "execute_result"
    }
   ],
   "source": [
    "import json\n",
    "with open('../Data/events.json') as f:\n",
    "    events_example = json.load(f)[0]\n",
    "    \n",
    "with open('../Data/groups.json') as f:\n",
    "    groups_example = json.load(f)[0]\n",
    "    \n",
    "required_fields = ['rsvp_limit','duration','time','created','group_id','topics']\n",
    "example_query = {k:v for k,v in {**groups_example, **events_example}.items() if k in required_fields}\n",
    "\n",
    "example_query"
   ]
  },
  {
   "cell_type": "code",
   "execution_count": 361,
   "metadata": {
    "collapsed": true
   },
   "outputs": [],
   "source": [
    "def score(query):\n",
    "    record_to_score = np.hstack([np.array([example_query['rsvp_limit'] if example_query['rsvp_limit'] else maxRsvpLimit,\n",
    "                                       example_query['duration'] if example_query['duration'] else -1,\n",
    "                                       example_query['time'] - example_query['created'],\n",
    "                                       memberships_per_group[example_query['group_id']]]),\n",
    "                             vectorise_topics(example_query['topics'])]).reshape(1, -1)\n",
    "    prediction = int(round(rfr_search.best_estimator_.predict(record_to_score)[0]))\n",
    "    return prediction"
   ]
  },
  {
   "cell_type": "code",
   "execution_count": 363,
   "metadata": {},
   "outputs": [
    {
     "data": {
      "text/plain": [
       "34"
      ]
     },
     "execution_count": 363,
     "metadata": {},
     "output_type": "execute_result"
    }
   ],
   "source": [
    "score(example_query)"
   ]
  },
  {
   "cell_type": "markdown",
   "metadata": {},
   "source": [
    "### Persist model, metadata and scorer function"
   ]
  },
  {
   "cell_type": "code",
   "execution_count": 396,
   "metadata": {},
   "outputs": [],
   "source": [
    "class model:\n",
    "    def __init__(self, rfr_search, memberships_per_group, maxRsvpLimit, w2vModel):\n",
    "        self.rfr_search = rfr_search\n",
    "        self.memberships_per_group = memberships_per_group\n",
    "        self.maxRsvpLimit = maxRsvpLimit\n",
    "        self.w2vModel = w2vModel\n",
    "    \n",
    "    def vectorise_topics(self, group_topics):\n",
    "        wvecs = []\n",
    "        for topic in group_topics:\n",
    "            try:\n",
    "                wvecs.append(self.w2vModel.wv[topic])\n",
    "            except:\n",
    "                None\n",
    "        result = np.vstack(wvecs).mean(axis=0) if len(wvecs)>0 else np.zeros(vecSize)\n",
    "        return result  \n",
    "\n",
    "    def score(self, query):\n",
    "        record_to_score = np.hstack([np.array([query['rsvp_limit'] if query['rsvp_limit'] else self.maxRsvpLimit,\n",
    "                                           query['duration'] if query['duration'] else -1,\n",
    "                                           query['time'] - query['created'],\n",
    "                                           self.memberships_per_group[query['group_id']]]),\n",
    "                                 vectorise_topics(example_query['topics'])]).reshape(1, -1)\n",
    "        prediction = int(round(self.rfr_search.best_estimator_.predict(record_to_score)[0]))\n",
    "        return prediction"
   ]
  },
  {
   "cell_type": "code",
   "execution_count": 399,
   "metadata": {},
   "outputs": [
    {
     "data": {
      "text/plain": [
       "34"
      ]
     },
     "execution_count": 399,
     "metadata": {},
     "output_type": "execute_result"
    }
   ],
   "source": [
    "modelInstance = model(scorObj['rfr_search'], scorObj['memberships_per_group'], scorObj['maxRsvpLimit'], scorObj['w2vModel'])\n",
    "modelInstance.score(example_query)"
   ]
  },
  {
   "cell_type": "code",
   "execution_count": 402,
   "metadata": {},
   "outputs": [
    {
     "data": {
      "text/plain": [
       "['../Data/scoring_objects.pkl']"
      ]
     },
     "execution_count": 402,
     "metadata": {},
     "output_type": "execute_result"
    }
   ],
   "source": [
    "scorObj = {'rfr_search': rfr_search,\n",
    "            'memberships_per_group': memberships_per_group,\n",
    "            'maxRsvpLimit': maxRsvpLimit,\n",
    "            'w2vModel': w2vModel,\n",
    "            'required_fields': required_fields,\n",
    "          'vecSize':vecSize}\n",
    "joblib.dump(scorObj, '../Data/scoring_objects.pkl')"
   ]
  },
  {
   "cell_type": "code",
   "execution_count": 401,
   "metadata": {},
   "outputs": [
    {
     "data": {
      "text/plain": [
       "['../Data/modelInstance.pkl']"
      ]
     },
     "execution_count": 401,
     "metadata": {},
     "output_type": "execute_result"
    }
   ],
   "source": [
    "joblib.dump(model, '../Data/model.pkl')\n",
    "joblib.dump(modelInstance, '../Data/modelInstance.pkl')"
   ]
  }
 ],
 "metadata": {
  "kernelspec": {
   "display_name": "Python 3",
   "language": "python",
   "name": "python3"
  },
  "language_info": {
   "codemirror_mode": {
    "name": "ipython",
    "version": 3
   },
   "file_extension": ".py",
   "mimetype": "text/x-python",
   "name": "python",
   "nbconvert_exporter": "python",
   "pygments_lexer": "ipython3",
   "version": "3.6.1"
  }
 },
 "nbformat": 4,
 "nbformat_minor": 2
}
